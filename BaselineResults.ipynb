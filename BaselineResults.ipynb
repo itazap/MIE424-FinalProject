{
  "nbformat": 4,
  "nbformat_minor": 0,
  "metadata": {
    "kernelspec": {
      "display_name": "Python 3",
      "language": "python",
      "name": "python3"
    },
    "language_info": {
      "codemirror_mode": {
        "name": "ipython",
        "version": 3
      },
      "file_extension": ".py",
      "mimetype": "text/x-python",
      "name": "python",
      "nbconvert_exporter": "python",
      "pygments_lexer": "ipython3",
      "version": "3.7.6"
    },
    "colab": {
      "name": "BaselineResults.ipynb",
      "provenance": [],
      "collapsed_sections": [],
      "toc_visible": true
    }
  },
  "cells": [
    {
      "cell_type": "code",
      "metadata": {
        "id": "6LNtRkb181Xa",
        "colab": {
          "base_uri": "https://localhost:8080/"
        },
        "outputId": "7f1440bc-7eed-4184-cc3b-95b4c583e222"
      },
      "source": [
        "from src.TestProcedure import *\n",
        "from src.BaselineModel import *\n",
        "from src.AdultData import build_adult_data, normalize\n",
        "\n",
        "import pandas as pd\n",
        "import cvxpy as cp\n",
        "import numpy as np\n",
        "\n",
        "from sklearn.model_selection import KFold\n",
        "from sklearn.model_selection import GridSearchCV, train_test_split\n",
        "from sklearn.metrics.scorer import make_scorer"
      ],
      "execution_count": 1,
      "outputs": [
        {
          "output_type": "stream",
          "text": [
            "/usr/local/lib/python3.7/dist-packages/sklearn/utils/deprecation.py:144: FutureWarning: The sklearn.metrics.scorer module is  deprecated in version 0.22 and will be removed in version 0.24. The corresponding classes / functions should instead be imported from sklearn.metrics. Anything that cannot be imported from sklearn.metrics is now part of the private API.\n",
            "  warnings.warn(message, FutureWarning)\n"
          ],
          "name": "stderr"
        }
      ]
    },
    {
      "cell_type": "code",
      "metadata": {
        "id": "zN4NGUGL81Xd",
        "colab": {
          "base_uri": "https://localhost:8080/"
        },
        "outputId": "253d42a5-151c-434f-fd2c-9bef577d43d9"
      },
      "source": [
        "!git clone https://github.com/mlohaus/SearchFair.git\n",
        "%cd SearchFair"
      ],
      "execution_count": 2,
      "outputs": [
        {
          "output_type": "stream",
          "text": [
            "Cloning into 'SearchFair'...\n",
            "remote: Enumerating objects: 86, done.\u001b[K\n",
            "remote: Counting objects: 100% (86/86), done.\u001b[K\n",
            "remote: Compressing objects: 100% (60/60), done.\u001b[K\n",
            "remote: Total 86 (delta 32), reused 74 (delta 24), pack-reused 0\u001b[K\n",
            "Unpacking objects: 100% (86/86), done.\n",
            "/content/SearchFair\n"
          ],
          "name": "stdout"
        }
      ]
    },
    {
      "cell_type": "markdown",
      "metadata": {
        "id": "4qXh1BGW81Xg"
      },
      "source": [
        "#### Load Unbalanced (Raw) Dataset"
      ]
    },
    {
      "cell_type": "code",
      "metadata": {
        "id": "GOaQYCyj81Xg"
      },
      "source": [
        "# Load data into pandas DataFrame\n",
        "unbalanced_dataset = pd.read_csv('data/adult/adult.csv')\n",
        "\n",
        "# Drop fnlwgt, education, education-num, capital-gain, capital-loss as Lohaus et al do\n",
        "unbalanced_dataset = unbalanced_dataset.drop(columns=['fnlwgt', 'education', 'capital-gain', 'capital-loss'])"
      ],
      "execution_count": 3,
      "outputs": []
    },
    {
      "cell_type": "markdown",
      "metadata": {
        "id": "6OnVSo4H81Xh"
      },
      "source": [
        "#### Load Balanced (Fixed) Dataset"
      ]
    },
    {
      "cell_type": "code",
      "metadata": {
        "id": "ijKhFKee81Xh"
      },
      "source": [
        "# Load data into pandas DataFrame\n",
        "dataset = pd.read_csv('data/adult/adult.csv')\n",
        "data50minus = dataset[dataset[\"income\"].str.contains(\"<=50K\")].iloc[:11687]\n",
        "data50plus = dataset[dataset[\"income\"].str.contains(\">50K\")].iloc[:11687]\n",
        "databalanced = pd.concat([data50minus, data50plus])\n",
        "balanced_dataset = databalanced.sample(frac=1).reset_index(drop=True)\n",
        "# Drop fnlwgt, education, education-num, capital-gain, capital-loss as Lohaus et al do\n",
        "balanced_dataset = balanced_dataset.drop(columns=['fnlwgt', 'education', 'capital-gain', 'capital-loss'])"
      ],
      "execution_count": 4,
      "outputs": []
    },
    {
      "cell_type": "markdown",
      "metadata": {
        "id": "RiCaPsx981Xh"
      },
      "source": [
        "### Baseline Results on Unbalanced Dataset"
      ]
    },
    {
      "cell_type": "code",
      "metadata": {
        "id": "1f5EIDJ081Xi"
      },
      "source": [
        "baseline_linear_hinge_unbalanced = BaselineModel(kernel='linear',loss_name='hinge')\n",
        "baseline_rbf_hinge_unbalanced = BaselineModel(kernel='rbf',loss_name='hinge')"
      ],
      "execution_count": null,
      "outputs": []
    },
    {
      "cell_type": "markdown",
      "metadata": {
        "id": "nH1vSvZe81Xi"
      },
      "source": [
        "#### Sensitive Attribute = 'Sex' "
      ]
    },
    {
      "cell_type": "code",
      "metadata": {
        "id": "FO_X2-P_81Xi",
        "colab": {
          "base_uri": "https://localhost:8080/"
        },
        "outputId": "049d4edf-6cf4-4a98-b77e-3259addbfe9a"
      },
      "source": [
        "baseline_1_tester = TestProcedure(baseline_linear_hinge_unbalanced)\n",
        "baseline_1_test_results = baseline_1_tester.RunTest(dataset=unbalanced_dataset,sens_attribute='sex')"
      ],
      "execution_count": null,
      "outputs": [
        {
          "output_type": "stream",
          "text": [
            "Sensitive Attribute: sex\n",
            "Kernel Type: linear\n",
            "Loss Func: hinge\n",
            "Run Time: 2.9782 seconds\n",
            "Prediction Accuracy: 80.7817 %\n",
            "DDP Score: 0.2505\n",
            "DEO Score: 0.1817\n"
          ],
          "name": "stdout"
        }
      ]
    },
    {
      "cell_type": "code",
      "metadata": {
        "id": "YUWNGkKh81Xj",
        "colab": {
          "base_uri": "https://localhost:8080/"
        },
        "outputId": "f7e6781b-8dbb-4cf3-848c-e2fffc14a4ed"
      },
      "source": [
        "baseline_2_tester = TestProcedure(baseline_rbf_hinge_unbalanced)\n",
        "baseline_2_test_results = baseline_2_tester.RunTest(dataset=unbalanced_dataset,sens_attribute='sex')"
      ],
      "execution_count": null,
      "outputs": [
        {
          "output_type": "stream",
          "text": [
            "Sensitive Attribute: sex\n",
            "Kernel Type: rbf\n",
            "Loss Func: hinge\n",
            "Run Time: 2.6491 seconds\n",
            "Prediction Accuracy: 81.1868 %\n",
            "DDP Score: 0.2377\n",
            "DEO Score: 0.186\n"
          ],
          "name": "stdout"
        }
      ]
    },
    {
      "cell_type": "markdown",
      "metadata": {
        "id": "u2KMwPHn81Xj"
      },
      "source": [
        "#### Sensitive Attribute = 'Race' "
      ]
    },
    {
      "cell_type": "code",
      "metadata": {
        "id": "hEQBWWED81Xj",
        "colab": {
          "base_uri": "https://localhost:8080/"
        },
        "outputId": "5aeba822-d04b-49ec-88f6-8b30d439efde"
      },
      "source": [
        "baseline_3_tester = TestProcedure(baseline_linear_hinge_unbalanced)\n",
        "baseline_3_test_results = baseline_3_tester.RunTest(dataset=unbalanced_dataset,sens_attribute='race')"
      ],
      "execution_count": null,
      "outputs": [
        {
          "output_type": "stream",
          "text": [
            "Sensitive Attribute: race\n",
            "Kernel Type: linear\n",
            "Loss Func: hinge\n",
            "Run Time: 2.2018 seconds\n",
            "Prediction Accuracy: 80.7271 %\n",
            "DDP Score: 0.0956\n",
            "DEO Score: 0.0135\n"
          ],
          "name": "stdout"
        }
      ]
    },
    {
      "cell_type": "code",
      "metadata": {
        "id": "tho49ICO81Xk",
        "colab": {
          "base_uri": "https://localhost:8080/"
        },
        "outputId": "dca6b197-0512-4a7c-9c82-62cd99ccfc75"
      },
      "source": [
        "baseline_4_tester = TestProcedure(baseline_rbf_hinge_unbalanced)\n",
        "baseline_4_test_results = baseline_4_tester.RunTest(dataset=unbalanced_dataset,sens_attribute='race')"
      ],
      "execution_count": null,
      "outputs": [
        {
          "output_type": "stream",
          "text": [
            "Sensitive Attribute: race\n",
            "Kernel Type: rbf\n",
            "Loss Func: hinge\n",
            "Run Time: 2.403 seconds\n",
            "Prediction Accuracy: 81.0482 %\n",
            "DDP Score: 0.0819\n",
            "DEO Score: 0.0414\n"
          ],
          "name": "stdout"
        }
      ]
    },
    {
      "cell_type": "markdown",
      "metadata": {
        "id": "pEIP1B1381Xk"
      },
      "source": [
        "### Baseline Results on Balanced Dataset"
      ]
    },
    {
      "cell_type": "code",
      "metadata": {
        "id": "V2SXKhpO81Xk"
      },
      "source": [
        "baseline_linear_hinge_balanced = BaselineModel(kernel='linear',loss_name='hinge')\n",
        "baseline_rbf_hinge_balanced = BaselineModel(kernel='rbf',loss_name='hinge')"
      ],
      "execution_count": null,
      "outputs": []
    },
    {
      "cell_type": "markdown",
      "metadata": {
        "id": "JijfC1dG81Xk"
      },
      "source": [
        "#### Sensitive Attribute = 'Sex'"
      ]
    },
    {
      "cell_type": "code",
      "metadata": {
        "id": "D7R6JKiN81Xl",
        "colab": {
          "base_uri": "https://localhost:8080/"
        },
        "outputId": "576291bd-9f2b-453b-994a-7c47f4262536"
      },
      "source": [
        "baseline_5_tester = TestProcedure(baseline_linear_hinge_balanced)\n",
        "baseline_5_test_results = baseline_5_tester.RunTest(dataset=balanced_dataset,sens_attribute='sex')"
      ],
      "execution_count": null,
      "outputs": [
        {
          "output_type": "stream",
          "text": [
            "Sensitive Attribute: sex\n",
            "Kernel Type: linear\n",
            "Loss Func: hinge\n",
            "Run Time: 4.1837 seconds\n",
            "Prediction Accuracy: 75.9042 %\n",
            "DDP Score: 0.4726\n",
            "DEO Score: 0.264\n"
          ],
          "name": "stdout"
        }
      ]
    },
    {
      "cell_type": "code",
      "metadata": {
        "id": "kp9-SLN081Xl",
        "colab": {
          "base_uri": "https://localhost:8080/"
        },
        "outputId": "a2c66531-8168-45db-a32e-0d035fac6eff"
      },
      "source": [
        "baseline_6_tester = TestProcedure(baseline_rbf_hinge_balanced)\n",
        "baseline_6_test_results = baseline_6_tester.RunTest(dataset=balanced_dataset,sens_attribute='sex')"
      ],
      "execution_count": null,
      "outputs": [
        {
          "output_type": "stream",
          "text": [
            "Sensitive Attribute: sex\n",
            "Kernel Type: rbf\n",
            "Loss Func: hinge\n",
            "Run Time: 2.7295 seconds\n",
            "Prediction Accuracy: 77.1399 %\n",
            "DDP Score: 0.4528\n",
            "DEO Score: 0.2752\n"
          ],
          "name": "stdout"
        }
      ]
    },
    {
      "cell_type": "markdown",
      "metadata": {
        "id": "q7thqHqj81Xl"
      },
      "source": [
        "#### Sensitive Attribute = 'Race' "
      ]
    },
    {
      "cell_type": "code",
      "metadata": {
        "id": "gb6MgAuw81Xl",
        "colab": {
          "base_uri": "https://localhost:8080/"
        },
        "outputId": "44c676cb-c364-4d32-ba25-952998966e5d"
      },
      "source": [
        "baseline_7_tester = TestProcedure(baseline_linear_hinge_balanced)\n",
        "baseline_7_test_results = baseline_7_tester.RunTest(dataset=balanced_dataset,sens_attribute='race')"
      ],
      "execution_count": null,
      "outputs": [
        {
          "output_type": "stream",
          "text": [
            "Sensitive Attribute: race\n",
            "Kernel Type: linear\n",
            "Loss Func: hinge\n",
            "Run Time: 2.0199 seconds\n",
            "Prediction Accuracy: 75.9764 %\n",
            "DDP Score: 0.1552\n",
            "DEO Score: 0.0423\n"
          ],
          "name": "stdout"
        }
      ]
    },
    {
      "cell_type": "code",
      "metadata": {
        "id": "0jzJ3uKe81Xm",
        "colab": {
          "base_uri": "https://localhost:8080/"
        },
        "outputId": "3ab3d17a-5031-4abf-9e39-38ae6aa1d25b"
      },
      "source": [
        "baseline_8_tester = TestProcedure(baseline_rbf_hinge_balanced)\n",
        "baseline_8_test_results = baseline_8_tester.RunTest(dataset=balanced_dataset,sens_attribute='race')"
      ],
      "execution_count": null,
      "outputs": [
        {
          "output_type": "stream",
          "text": [
            "Sensitive Attribute: race\n",
            "Kernel Type: rbf\n",
            "Loss Func: hinge\n",
            "Run Time: 2.4019 seconds\n",
            "Prediction Accuracy: 76.1568 %\n",
            "DDP Score: 0.1623\n",
            "DEO Score: 0.0478\n"
          ],
          "name": "stdout"
        }
      ]
    },
    {
      "cell_type": "markdown",
      "metadata": {
        "id": "YJxNtDYj81Xm"
      },
      "source": [
        "## Baseline Hyperparameter Grid Search **for Accuracy**"
      ]
    },
    {
      "cell_type": "markdown",
      "metadata": {
        "id": "MbKNCjLz81Xm"
      },
      "source": [
        "### Unbalanced Dataset "
      ]
    },
    {
      "cell_type": "code",
      "metadata": {
        "id": "E6oSflLM81Xm",
        "colab": {
          "base_uri": "https://localhost:8080/"
        },
        "outputId": "c6efbb37-016d-401c-e2b3-a2380876de36"
      },
      "source": [
        "sens_attribute = 'sex'\n",
        "\n",
        "grid_search_1_model = BaselineModel()\n",
        "\n",
        "beta_params = [0.0001, 0.001, 0.01] # For Linear Kernel\n",
        "gamma_params = [0.01, 0.1, 1] # For RBF Kernel\n",
        "kernel_params = ['linear','rbf']\n",
        "cv_params = {'l2_beta': beta_params,'gamma': gamma_params,'kernel':kernel_params}\n",
        "\n",
        "x_data, y_data, s_data = build_adult_data(unbalanced_dataset,sens_attribute,load_data_size=None)\n",
        "x_train, x_test, y_train, y_test, s_train, s_test = train_test_split(x_data, y_data, s_data, train_size=1200, shuffle=True)\n",
        "\n",
        "grid_accuracy_unbalanced = GridSearchCV(grid_search_1_model,cv_params, cv=4, n_jobs=1, scoring='accuracy')\n",
        "grid_accuracy_unbalanced.fit(x_train, y_train, s_train = s_train)"
      ],
      "execution_count": null,
      "outputs": [
        {
          "output_type": "execute_result",
          "data": {
            "text/plain": [
              "GridSearchCV(cv=4, error_score=nan,\n",
              "             estimator=BaselineModel(gamma=0.1, kernel='linear', l2_beta=0.001,\n",
              "                                     lambda_max=1, loss_name='hinge',\n",
              "                                     max_iter=3000, reason_points=0.5,\n",
              "                                     solver='SCS', verbose=False),\n",
              "             iid='deprecated', n_jobs=1,\n",
              "             param_grid={'gamma': [0.01, 0.1, 1], 'kernel': ['linear', 'rbf'],\n",
              "                         'l2_beta': [0.0001, 0.001, 0.01]},\n",
              "             pre_dispatch='2*n_jobs', refit=True, return_train_score=False,\n",
              "             scoring='accuracy', verbose=0)"
            ]
          },
          "metadata": {
            "tags": []
          },
          "execution_count": 17
        }
      ]
    },
    {
      "cell_type": "code",
      "metadata": {
        "id": "WFUNvIIk81Xn",
        "colab": {
          "base_uri": "https://localhost:8080/"
        },
        "outputId": "55ecefcf-9323-4521-b768-09e615d11faa"
      },
      "source": [
        "grid_accuracy_unbalanced.cv_results_"
      ],
      "execution_count": null,
      "outputs": [
        {
          "output_type": "execute_result",
          "data": {
            "text/plain": [
              "{'mean_fit_time': array([1.20719606, 1.2784189 , 1.19964206, 6.80310798, 1.39515048,\n",
              "        1.88843232, 1.14222383, 1.16476566, 1.11116141, 1.81194919,\n",
              "        1.15477502, 1.41130453, 1.10925257, 1.13331962, 1.06920606,\n",
              "        8.39622611, 1.36117834, 1.23755175]),\n",
              " 'mean_score_time': array([0.00179774, 0.00433099, 0.00179869, 0.0086382 , 0.00708729,\n",
              "        0.01316088, 0.00286865, 0.00171763, 0.00163621, 0.00628066,\n",
              "        0.00634682, 0.00643331, 0.00168717, 0.0017342 , 0.00167555,\n",
              "        0.01085103, 0.00638688, 0.00668693]),\n",
              " 'mean_test_score': array([0.81083333, 0.81083333, 0.81083333, 0.81083333, 0.81583333,\n",
              "        0.75416667, 0.81083333, 0.81083333, 0.81083333, 0.81333333,\n",
              "        0.81      , 0.81083333, 0.81083333, 0.81083333, 0.81083333,\n",
              "        0.81833333, 0.82166667, 0.82583333]),\n",
              " 'param_gamma': masked_array(data=[0.01, 0.01, 0.01, 0.01, 0.01, 0.01, 0.1, 0.1, 0.1, 0.1,\n",
              "                    0.1, 0.1, 1, 1, 1, 1, 1, 1],\n",
              "              mask=[False, False, False, False, False, False, False, False,\n",
              "                    False, False, False, False, False, False, False, False,\n",
              "                    False, False],\n",
              "        fill_value='?',\n",
              "             dtype=object),\n",
              " 'param_kernel': masked_array(data=['linear', 'linear', 'linear', 'rbf', 'rbf', 'rbf',\n",
              "                    'linear', 'linear', 'linear', 'rbf', 'rbf', 'rbf',\n",
              "                    'linear', 'linear', 'linear', 'rbf', 'rbf', 'rbf'],\n",
              "              mask=[False, False, False, False, False, False, False, False,\n",
              "                    False, False, False, False, False, False, False, False,\n",
              "                    False, False],\n",
              "        fill_value='?',\n",
              "             dtype=object),\n",
              " 'param_l2_beta': masked_array(data=[0.0001, 0.001, 0.01, 0.0001, 0.001, 0.01, 0.0001,\n",
              "                    0.001, 0.01, 0.0001, 0.001, 0.01, 0.0001, 0.001, 0.01,\n",
              "                    0.0001, 0.001, 0.01],\n",
              "              mask=[False, False, False, False, False, False, False, False,\n",
              "                    False, False, False, False, False, False, False, False,\n",
              "                    False, False],\n",
              "        fill_value='?',\n",
              "             dtype=object),\n",
              " 'params': [{'gamma': 0.01, 'kernel': 'linear', 'l2_beta': 0.0001},\n",
              "  {'gamma': 0.01, 'kernel': 'linear', 'l2_beta': 0.001},\n",
              "  {'gamma': 0.01, 'kernel': 'linear', 'l2_beta': 0.01},\n",
              "  {'gamma': 0.01, 'kernel': 'rbf', 'l2_beta': 0.0001},\n",
              "  {'gamma': 0.01, 'kernel': 'rbf', 'l2_beta': 0.001},\n",
              "  {'gamma': 0.01, 'kernel': 'rbf', 'l2_beta': 0.01},\n",
              "  {'gamma': 0.1, 'kernel': 'linear', 'l2_beta': 0.0001},\n",
              "  {'gamma': 0.1, 'kernel': 'linear', 'l2_beta': 0.001},\n",
              "  {'gamma': 0.1, 'kernel': 'linear', 'l2_beta': 0.01},\n",
              "  {'gamma': 0.1, 'kernel': 'rbf', 'l2_beta': 0.0001},\n",
              "  {'gamma': 0.1, 'kernel': 'rbf', 'l2_beta': 0.001},\n",
              "  {'gamma': 0.1, 'kernel': 'rbf', 'l2_beta': 0.01},\n",
              "  {'gamma': 1, 'kernel': 'linear', 'l2_beta': 0.0001},\n",
              "  {'gamma': 1, 'kernel': 'linear', 'l2_beta': 0.001},\n",
              "  {'gamma': 1, 'kernel': 'linear', 'l2_beta': 0.01},\n",
              "  {'gamma': 1, 'kernel': 'rbf', 'l2_beta': 0.0001},\n",
              "  {'gamma': 1, 'kernel': 'rbf', 'l2_beta': 0.001},\n",
              "  {'gamma': 1, 'kernel': 'rbf', 'l2_beta': 0.01}],\n",
              " 'rank_test_score': array([ 6,  6,  6,  6,  4, 18,  6,  6,  6,  5, 17,  6,  6,  6,  6,  3,  2,\n",
              "         1], dtype=int32),\n",
              " 'split0_test_score': array([0.83666667, 0.83666667, 0.83666667, 0.83666667, 0.85      ,\n",
              "        0.82666667, 0.83666667, 0.83666667, 0.83666667, 0.83333333,\n",
              "        0.84      , 0.83666667, 0.83666667, 0.83666667, 0.83666667,\n",
              "        0.85666667, 0.85666667, 0.85333333]),\n",
              " 'split1_test_score': array([0.79333333, 0.79333333, 0.79333333, 0.79333333, 0.80333333,\n",
              "        0.73666667, 0.79333333, 0.79333333, 0.79333333, 0.81333333,\n",
              "        0.81333333, 0.79333333, 0.79333333, 0.79333333, 0.79333333,\n",
              "        0.82      , 0.82      , 0.82      ]),\n",
              " 'split2_test_score': array([0.79333333, 0.79333333, 0.79333333, 0.79333333, 0.79333333,\n",
              "        0.74      , 0.79333333, 0.79333333, 0.79333333, 0.81333333,\n",
              "        0.79333333, 0.79333333, 0.79333333, 0.79333333, 0.79333333,\n",
              "        0.81      , 0.81333333, 0.83      ]),\n",
              " 'split3_test_score': array([0.82      , 0.82      , 0.82      , 0.82      , 0.81666667,\n",
              "        0.71333333, 0.82      , 0.82      , 0.82      , 0.79333333,\n",
              "        0.79333333, 0.82      , 0.82      , 0.82      , 0.82      ,\n",
              "        0.78666667, 0.79666667, 0.8       ]),\n",
              " 'std_fit_time': array([0.17465047, 0.20163634, 0.10822206, 5.17929739, 0.08315481,\n",
              "        0.48074677, 0.19696168, 0.16733091, 0.14355875, 0.1677825 ,\n",
              "        0.02658006, 0.08444638, 0.17452729, 0.18005574, 0.10863486,\n",
              "        4.14971143, 0.1047844 , 0.08360778]),\n",
              " 'std_score_time': array([9.17263197e-05, 2.63961190e-03, 2.11271310e-04, 3.88303395e-03,\n",
              "        7.16288980e-04, 3.83115893e-03, 2.15955407e-03, 3.55648983e-05,\n",
              "        2.73487909e-05, 2.54834778e-05, 5.64011136e-05, 2.29318481e-04,\n",
              "        4.90431422e-05, 6.53902616e-05, 6.55998604e-05, 4.63321663e-03,\n",
              "        5.04587731e-05, 4.33025148e-04]),\n",
              " 'std_test_score': array([0.01846543, 0.01846543, 0.01846543, 0.01846543, 0.0213925 ,\n",
              "        0.04310034, 0.01846543, 0.01846543, 0.01846543, 0.01414214,\n",
              "        0.01914854, 0.01846543, 0.01846543, 0.01846543, 0.01846543,\n",
              "        0.02522124, 0.02192158, 0.01920286])}"
            ]
          },
          "metadata": {
            "tags": []
          },
          "execution_count": 18
        }
      ]
    },
    {
      "cell_type": "markdown",
      "metadata": {
        "id": "DrO4mGZ281Xn"
      },
      "source": [
        "### Balanced Dataset "
      ]
    },
    {
      "cell_type": "code",
      "metadata": {
        "id": "sMKtjcg481Xn",
        "colab": {
          "base_uri": "https://localhost:8080/"
        },
        "outputId": "9f0eca9d-3a4d-4ea7-da82-8aa35f4f2536"
      },
      "source": [
        "grid_search_2_model = BaselineModel()\n",
        "\n",
        "beta_params = [0.0001, 0.001, 0.01] # For Linear Kernel\n",
        "gamma_params = [0.01, 0.1, 1] # For RBF Kernel\n",
        "kernel_params = ['linear','rbf']\n",
        "cv_params = {'l2_beta': beta_params,'gamma': gamma_params,'kernel':kernel_params}\n",
        "\n",
        "x_data, y_data, s_data = build_adult_data(balanced_dataset,sens_attribute,load_data_size=None)\n",
        "x_train, x_test, y_train, y_test, s_train, s_test = train_test_split(x_data, y_data, s_data, train_size=1200, shuffle=True)\n",
        "\n",
        "grid_accuracy_balanced = GridSearchCV(grid_search_2_model,cv_params, cv=4, n_jobs=1, scoring='accuracy')\n",
        "grid_accuracy_balanced.fit(x_train, y_train, s_train = s_train)"
      ],
      "execution_count": null,
      "outputs": [
        {
          "output_type": "execute_result",
          "data": {
            "text/plain": [
              "GridSearchCV(cv=4, error_score=nan,\n",
              "             estimator=BaselineModel(gamma=0.1, kernel='linear', l2_beta=0.001,\n",
              "                                     lambda_max=1, loss_name='hinge',\n",
              "                                     max_iter=3000, reason_points=0.5,\n",
              "                                     solver='SCS', verbose=False),\n",
              "             iid='deprecated', n_jobs=1,\n",
              "             param_grid={'gamma': [0.01, 0.1, 1], 'kernel': ['linear', 'rbf'],\n",
              "                         'l2_beta': [0.0001, 0.001, 0.01]},\n",
              "             pre_dispatch='2*n_jobs', refit=True, return_train_score=False,\n",
              "             scoring='accuracy', verbose=0)"
            ]
          },
          "metadata": {
            "tags": []
          },
          "execution_count": 19
        }
      ]
    },
    {
      "cell_type": "code",
      "metadata": {
        "id": "EcHLfYmo81Xo",
        "colab": {
          "base_uri": "https://localhost:8080/"
        },
        "outputId": "74ec4bd2-bad4-41b7-85c8-21a84271a712"
      },
      "source": [
        "grid_accuracy_balanced.cv_results_"
      ],
      "execution_count": null,
      "outputs": [
        {
          "output_type": "execute_result",
          "data": {
            "text/plain": [
              "{'mean_fit_time': array([1.09765297, 0.9905321 , 1.00305456, 4.18562233, 1.90989661,\n",
              "        1.40704501, 1.04397076, 0.98558491, 0.94311798, 2.2928803 ,\n",
              "        1.20332927, 1.69422036, 1.09758472, 0.99101532, 0.98380077,\n",
              "        5.58235627, 1.13196176, 1.20283735]),\n",
              " 'mean_score_time': array([0.00235182, 0.00237882, 0.00178182, 0.0109877 , 0.00637692,\n",
              "        0.008524  , 0.00281286, 0.00546473, 0.00171304, 0.00682014,\n",
              "        0.00865889, 0.01067275, 0.00266516, 0.00186557, 0.00295907,\n",
              "        0.00635469, 0.00633723, 0.00722808]),\n",
              " 'mean_test_score': array([0.7725    , 0.7725    , 0.7725    , 0.7725    , 0.7725    ,\n",
              "        0.77583333, 0.7725    , 0.7725    , 0.7725    , 0.7625    ,\n",
              "        0.76916667, 0.7725    , 0.7725    , 0.7725    , 0.7725    ,\n",
              "        0.77166667, 0.77166667, 0.7775    ]),\n",
              " 'param_gamma': masked_array(data=[0.01, 0.01, 0.01, 0.01, 0.01, 0.01, 0.1, 0.1, 0.1, 0.1,\n",
              "                    0.1, 0.1, 1, 1, 1, 1, 1, 1],\n",
              "              mask=[False, False, False, False, False, False, False, False,\n",
              "                    False, False, False, False, False, False, False, False,\n",
              "                    False, False],\n",
              "        fill_value='?',\n",
              "             dtype=object),\n",
              " 'param_kernel': masked_array(data=['linear', 'linear', 'linear', 'rbf', 'rbf', 'rbf',\n",
              "                    'linear', 'linear', 'linear', 'rbf', 'rbf', 'rbf',\n",
              "                    'linear', 'linear', 'linear', 'rbf', 'rbf', 'rbf'],\n",
              "              mask=[False, False, False, False, False, False, False, False,\n",
              "                    False, False, False, False, False, False, False, False,\n",
              "                    False, False],\n",
              "        fill_value='?',\n",
              "             dtype=object),\n",
              " 'param_l2_beta': masked_array(data=[0.0001, 0.001, 0.01, 0.0001, 0.001, 0.01, 0.0001,\n",
              "                    0.001, 0.01, 0.0001, 0.001, 0.01, 0.0001, 0.001, 0.01,\n",
              "                    0.0001, 0.001, 0.01],\n",
              "              mask=[False, False, False, False, False, False, False, False,\n",
              "                    False, False, False, False, False, False, False, False,\n",
              "                    False, False],\n",
              "        fill_value='?',\n",
              "             dtype=object),\n",
              " 'params': [{'gamma': 0.01, 'kernel': 'linear', 'l2_beta': 0.0001},\n",
              "  {'gamma': 0.01, 'kernel': 'linear', 'l2_beta': 0.001},\n",
              "  {'gamma': 0.01, 'kernel': 'linear', 'l2_beta': 0.01},\n",
              "  {'gamma': 0.01, 'kernel': 'rbf', 'l2_beta': 0.0001},\n",
              "  {'gamma': 0.01, 'kernel': 'rbf', 'l2_beta': 0.001},\n",
              "  {'gamma': 0.01, 'kernel': 'rbf', 'l2_beta': 0.01},\n",
              "  {'gamma': 0.1, 'kernel': 'linear', 'l2_beta': 0.0001},\n",
              "  {'gamma': 0.1, 'kernel': 'linear', 'l2_beta': 0.001},\n",
              "  {'gamma': 0.1, 'kernel': 'linear', 'l2_beta': 0.01},\n",
              "  {'gamma': 0.1, 'kernel': 'rbf', 'l2_beta': 0.0001},\n",
              "  {'gamma': 0.1, 'kernel': 'rbf', 'l2_beta': 0.001},\n",
              "  {'gamma': 0.1, 'kernel': 'rbf', 'l2_beta': 0.01},\n",
              "  {'gamma': 1, 'kernel': 'linear', 'l2_beta': 0.0001},\n",
              "  {'gamma': 1, 'kernel': 'linear', 'l2_beta': 0.001},\n",
              "  {'gamma': 1, 'kernel': 'linear', 'l2_beta': 0.01},\n",
              "  {'gamma': 1, 'kernel': 'rbf', 'l2_beta': 0.0001},\n",
              "  {'gamma': 1, 'kernel': 'rbf', 'l2_beta': 0.001},\n",
              "  {'gamma': 1, 'kernel': 'rbf', 'l2_beta': 0.01}],\n",
              " 'rank_test_score': array([ 3,  3,  3,  3,  3,  2,  3,  3,  3, 18, 17,  3,  3,  3,  3, 15, 15,\n",
              "         1], dtype=int32),\n",
              " 'split0_test_score': array([0.79      , 0.79      , 0.79      , 0.79      , 0.79      ,\n",
              "        0.79333333, 0.79      , 0.79      , 0.79      , 0.77      ,\n",
              "        0.79      , 0.79      , 0.79      , 0.79      , 0.79      ,\n",
              "        0.78666667, 0.77666667, 0.78666667]),\n",
              " 'split1_test_score': array([0.76666667, 0.76666667, 0.76666667, 0.76666667, 0.76666667,\n",
              "        0.77      , 0.76666667, 0.76666667, 0.76666667, 0.76      ,\n",
              "        0.76666667, 0.76666667, 0.76666667, 0.76666667, 0.76666667,\n",
              "        0.77666667, 0.77      , 0.77333333]),\n",
              " 'split2_test_score': array([0.79      , 0.79      , 0.79      , 0.79      , 0.79      ,\n",
              "        0.78666667, 0.79      , 0.79      , 0.79      , 0.78333333,\n",
              "        0.77666667, 0.79      , 0.79      , 0.79      , 0.79      ,\n",
              "        0.75666667, 0.77      , 0.78333333]),\n",
              " 'split3_test_score': array([0.74333333, 0.74333333, 0.74333333, 0.74333333, 0.74333333,\n",
              "        0.75333333, 0.74333333, 0.74333333, 0.74333333, 0.73666667,\n",
              "        0.74333333, 0.74333333, 0.74333333, 0.74333333, 0.74333333,\n",
              "        0.76666667, 0.77      , 0.76666667]),\n",
              " 'std_fit_time': array([0.03491975, 0.0314874 , 0.04403152, 1.17444904, 0.14550542,\n",
              "        0.11054867, 0.04311117, 0.04162316, 0.03781102, 0.50113545,\n",
              "        0.03867314, 0.07202713, 0.05782533, 0.03792639, 0.04707241,\n",
              "        2.5024261 , 0.07942421, 0.05329509]),\n",
              " 'std_score_time': array([1.13437299e-03, 1.03600536e-03, 9.95151981e-05, 4.28609771e-03,\n",
              "        1.03833601e-04, 3.90658040e-03, 1.98518907e-03, 2.26726311e-03,\n",
              "        9.93816611e-05, 9.25587805e-04, 3.79275809e-03, 4.42798386e-03,\n",
              "        1.63634271e-03, 1.41992264e-04, 1.91897875e-03, 3.80934772e-05,\n",
              "        5.79485602e-05, 9.46024618e-04]),\n",
              " 'std_test_score': array([0.01934698, 0.01934698, 0.01934698, 0.01934698, 0.01934698,\n",
              "        0.01552328, 0.01934698, 0.01934698, 0.01934698, 0.01705791,\n",
              "        0.01705791, 0.01934698, 0.01934698, 0.01934698, 0.01934698,\n",
              "        0.01118034, 0.00288675, 0.00794949])}"
            ]
          },
          "metadata": {
            "tags": []
          },
          "execution_count": 20
        }
      ]
    },
    {
      "cell_type": "markdown",
      "metadata": {
        "id": "8NykG2u081Xo"
      },
      "source": [
        "## Baseline Hyperparameter Grid Search **for DDP**"
      ]
    },
    {
      "cell_type": "code",
      "metadata": {
        "id": "fdDqeVsj81Xp"
      },
      "source": [
        "grid_split_counter = 1\n",
        "\n",
        "def get_positive_rate(y_predicted, y_true):\n",
        "    tn, fp, fn, tp = confusion_matrix(y_true, y_predicted).ravel()\n",
        "    pr = (tp+fp) / (tp+fp+tn+fn)\n",
        "    return pr\n",
        "\n",
        "def DDP_Grid_Scoring(y_true,y_predicted,sens_attr,size):\n",
        "    global grid_split_counter\n",
        "    \n",
        "    chunk_size = 1200/size\n",
        "    sens_attribute = sens_attr[int((grid_split_counter - 1)*chunk_size): int(grid_split_counter*chunk_size)]\n",
        "    \n",
        "    if grid_split_counter == size:\n",
        "        grid_split_counter = 1\n",
        "    else:\n",
        "        grid_split_counter += 1\n",
        "    \n",
        "    positive_rate_prot = get_positive_rate(y_predicted[sens_attribute==-1], y_true[sens_attribute==-1])\n",
        "    positive_rate_unprot = get_positive_rate(y_predicted[sens_attribute==1], y_true[sens_attribute==1])\n",
        "    \n",
        "    DDP = abs(positive_rate_unprot - positive_rate_prot)\n",
        "    return DDP\n",
        "size = 4\n",
        "DDP_scorer = make_scorer(DDP_Grid_Scoring, greater_is_better=False, sens_attr = s_train, size = size)"
      ],
      "execution_count": 6,
      "outputs": []
    },
    {
      "cell_type": "markdown",
      "metadata": {
        "id": "oEpKh1pI81Xr"
      },
      "source": [
        "### Unbalanced Dataset "
      ]
    },
    {
      "cell_type": "code",
      "metadata": {
        "id": "985aFcK781Xr",
        "colab": {
          "base_uri": "https://localhost:8080/"
        },
        "outputId": "53e855fe-8efa-4954-9b1b-3a07cc4eb378"
      },
      "source": [
        "sens_attribute = 'sex'\n",
        "\n",
        "grid_search_3_model = BaselineModel()\n",
        "\n",
        "beta_params = [0.0001, 0.001, 0.01] # For Linear Kernel\n",
        "gamma_params = [0.01, 0.1, 1] # For RBF Kernel\n",
        "kernel_params = ['linear','rbf']\n",
        "cv_params = {'l2_beta': beta_params,'gamma': gamma_params,'kernel':kernel_params}\n",
        "\n",
        "x_data, y_data, s_data = build_adult_data(unbalanced_dataset,sens_attribute,load_data_size=None)\n",
        "x_train, x_test, y_train, y_test, s_train, s_test = train_test_split(x_data, y_data, s_data, train_size=1200, shuffle=False)\n",
        "\n",
        "grid_ddp_unbalanced = GridSearchCV(grid_search_3_model,cv_params, cv=size, n_jobs=1, scoring=DDP_scorer)\n",
        "grid_ddp_unbalanced.fit(x_train, y_train, s_train = s_train)"
      ],
      "execution_count": 7,
      "outputs": [
        {
          "output_type": "execute_result",
          "data": {
            "text/plain": [
              "GridSearchCV(cv=4, error_score=nan,\n",
              "             estimator=BaselineModel(gamma=0.1, kernel='linear', l2_beta=0.001,\n",
              "                                     lambda_max=1, loss_name='hinge',\n",
              "                                     max_iter=3000, reason_points=0.5,\n",
              "                                     solver='SCS', verbose=False),\n",
              "             iid='deprecated', n_jobs=1,\n",
              "             param_grid={'gamma': [0.01, 0.1, 1], 'kernel': ['linear', 'rbf'],\n",
              "                         'l2_beta': [0.0001, 0.001, 0.01]},\n",
              "             pre_dispatch='2*n_jobs', refit=True, return_train_score=False,\n",
              "             scoring=make_scorer(DDP_Grid_Scoring, greater_is_better=False, sens_attr=[ 1  1  1 ...  1 -1  1], size=4),\n",
              "             verbose=0)"
            ]
          },
          "metadata": {
            "tags": []
          },
          "execution_count": 7
        }
      ]
    },
    {
      "cell_type": "code",
      "metadata": {
        "id": "odTEJar681Xr",
        "colab": {
          "base_uri": "https://localhost:8080/"
        },
        "outputId": "1bde027e-ad1f-4c7e-cbe7-df8de0c03dbd"
      },
      "source": [
        "grid_ddp_unbalanced.cv_results_"
      ],
      "execution_count": 8,
      "outputs": [
        {
          "output_type": "execute_result",
          "data": {
            "text/plain": [
              "{'mean_fit_time': array([ 1.07850671,  1.09092081,  1.23826951,  4.93323433,  1.63547808,\n",
              "         1.64949727,  1.18767697,  1.16062808,  1.28248608,  2.4924159 ,\n",
              "         1.16558588,  1.48615861,  1.13674933,  1.07184768,  1.17480952,\n",
              "        13.55673003,  1.46914327,  1.29662746]),\n",
              " 'mean_score_time': array([0.00732625, 0.00561184, 0.00551569, 0.00922036, 0.00910926,\n",
              "        0.01128381, 0.00434387, 0.00475132, 0.00443012, 0.01167589,\n",
              "        0.00922108, 0.01142168, 0.00441104, 0.00433373, 0.00537354,\n",
              "        0.00881118, 0.00912809, 0.00902003]),\n",
              " 'mean_test_score': array([-0.22195605, -0.22195605, -0.22195605, -0.22195605, -0.20785129,\n",
              "         0.        , -0.22195605, -0.22195605, -0.22195605, -0.20011486,\n",
              "        -0.21495849, -0.21935652, -0.22195605, -0.22195605, -0.22195605,\n",
              "        -0.18754217, -0.18877206, -0.17458605]),\n",
              " 'param_gamma': masked_array(data=[0.01, 0.01, 0.01, 0.01, 0.01, 0.01, 0.1, 0.1, 0.1, 0.1,\n",
              "                    0.1, 0.1, 1, 1, 1, 1, 1, 1],\n",
              "              mask=[False, False, False, False, False, False, False, False,\n",
              "                    False, False, False, False, False, False, False, False,\n",
              "                    False, False],\n",
              "        fill_value='?',\n",
              "             dtype=object),\n",
              " 'param_kernel': masked_array(data=['linear', 'linear', 'linear', 'rbf', 'rbf', 'rbf',\n",
              "                    'linear', 'linear', 'linear', 'rbf', 'rbf', 'rbf',\n",
              "                    'linear', 'linear', 'linear', 'rbf', 'rbf', 'rbf'],\n",
              "              mask=[False, False, False, False, False, False, False, False,\n",
              "                    False, False, False, False, False, False, False, False,\n",
              "                    False, False],\n",
              "        fill_value='?',\n",
              "             dtype=object),\n",
              " 'param_l2_beta': masked_array(data=[0.0001, 0.001, 0.01, 0.0001, 0.001, 0.01, 0.0001,\n",
              "                    0.001, 0.01, 0.0001, 0.001, 0.01, 0.0001, 0.001, 0.01,\n",
              "                    0.0001, 0.001, 0.01],\n",
              "              mask=[False, False, False, False, False, False, False, False,\n",
              "                    False, False, False, False, False, False, False, False,\n",
              "                    False, False],\n",
              "        fill_value='?',\n",
              "             dtype=object),\n",
              " 'params': [{'gamma': 0.01, 'kernel': 'linear', 'l2_beta': 0.0001},\n",
              "  {'gamma': 0.01, 'kernel': 'linear', 'l2_beta': 0.001},\n",
              "  {'gamma': 0.01, 'kernel': 'linear', 'l2_beta': 0.01},\n",
              "  {'gamma': 0.01, 'kernel': 'rbf', 'l2_beta': 0.0001},\n",
              "  {'gamma': 0.01, 'kernel': 'rbf', 'l2_beta': 0.001},\n",
              "  {'gamma': 0.01, 'kernel': 'rbf', 'l2_beta': 0.01},\n",
              "  {'gamma': 0.1, 'kernel': 'linear', 'l2_beta': 0.0001},\n",
              "  {'gamma': 0.1, 'kernel': 'linear', 'l2_beta': 0.001},\n",
              "  {'gamma': 0.1, 'kernel': 'linear', 'l2_beta': 0.01},\n",
              "  {'gamma': 0.1, 'kernel': 'rbf', 'l2_beta': 0.0001},\n",
              "  {'gamma': 0.1, 'kernel': 'rbf', 'l2_beta': 0.001},\n",
              "  {'gamma': 0.1, 'kernel': 'rbf', 'l2_beta': 0.01},\n",
              "  {'gamma': 1, 'kernel': 'linear', 'l2_beta': 0.0001},\n",
              "  {'gamma': 1, 'kernel': 'linear', 'l2_beta': 0.001},\n",
              "  {'gamma': 1, 'kernel': 'linear', 'l2_beta': 0.01},\n",
              "  {'gamma': 1, 'kernel': 'rbf', 'l2_beta': 0.0001},\n",
              "  {'gamma': 1, 'kernel': 'rbf', 'l2_beta': 0.001},\n",
              "  {'gamma': 1, 'kernel': 'rbf', 'l2_beta': 0.01}],\n",
              " 'rank_test_score': array([9, 9, 9, 9, 6, 1, 9, 9, 9, 5, 7, 8, 9, 9, 9, 3, 4, 2], dtype=int32),\n",
              " 'split0_test_score': array([-0.24197196, -0.24197196, -0.24197196, -0.24197196, -0.21754862,\n",
              "        -0.        , -0.24197196, -0.24197196, -0.24197196, -0.20714609,\n",
              "        -0.23699683, -0.24197196, -0.24197196, -0.24197196, -0.24197196,\n",
              "        -0.22780039, -0.24272577, -0.20322629]),\n",
              " 'split1_test_score': array([-0.21538919, -0.21538919, -0.21538919, -0.21538919, -0.21836007,\n",
              "        -0.        , -0.21538919, -0.21538919, -0.21538919, -0.21330957,\n",
              "        -0.19904932, -0.20499109, -0.21538919, -0.21538919, -0.21538919,\n",
              "        -0.17944147, -0.17914439, -0.1788473 ]),\n",
              " 'split2_test_score': array([-0.20282413, -0.20282413, -0.20282413, -0.20282413, -0.17663671,\n",
              "        -0.        , -0.20282413, -0.20282413, -0.20282413, -0.17663671,\n",
              "        -0.19614891, -0.20282413, -0.20282413, -0.20282413, -0.20282413,\n",
              "        -0.12220796, -0.12220796, -0.1237484 ]),\n",
              " 'split3_test_score': array([-0.22763892, -0.22763892, -0.22763892, -0.22763892, -0.21885974,\n",
              "        -0.        , -0.22763892, -0.22763892, -0.22763892, -0.20336707,\n",
              "        -0.22763892, -0.22763892, -0.22763892, -0.22763892, -0.22763892,\n",
              "        -0.22071886, -0.21101012, -0.19252221]),\n",
              " 'std_fit_time': array([0.02447072, 0.06347288, 0.07874099, 1.20500874, 0.18788022,\n",
              "        0.13625001, 0.06055925, 0.06952434, 0.04715957, 0.40832877,\n",
              "        0.08303831, 0.12501138, 0.04872346, 0.06978814, 0.07308164,\n",
              "        1.27141787, 0.1190516 , 0.03086022]),\n",
              " 'std_score_time': array([2.92210801e-03, 1.90852864e-03, 2.01981312e-03, 1.77593837e-04,\n",
              "        8.98542343e-05, 3.70622853e-03, 7.63245797e-05, 2.86698242e-04,\n",
              "        1.06359457e-04, 4.10748820e-03, 4.33169029e-04, 4.23440591e-03,\n",
              "        8.87367840e-05, 7.38102874e-05, 1.98040850e-03, 6.57627800e-05,\n",
              "        2.17014086e-04, 2.53242811e-04]),\n",
              " 'std_test_score': array([0.01450935, 0.01450935, 0.01450935, 0.01450935, 0.01802781,\n",
              "        0.        , 0.01450935, 0.01450935, 0.01450935, 0.01401195,\n",
              "        0.01770158, 0.01627684, 0.01450935, 0.01450935, 0.01450935,\n",
              "        0.0419988 , 0.04452248, 0.03059655])}"
            ]
          },
          "metadata": {
            "tags": []
          },
          "execution_count": 8
        }
      ]
    },
    {
      "cell_type": "markdown",
      "metadata": {
        "id": "C9EvRFzS81Xr"
      },
      "source": [
        "### Balanced Dataset"
      ]
    },
    {
      "cell_type": "code",
      "metadata": {
        "id": "oZbNL_aj81Xs",
        "colab": {
          "base_uri": "https://localhost:8080/"
        },
        "outputId": "75dd0388-4be0-4c8e-e6bf-f33c9855de14"
      },
      "source": [
        "sens_attribute = 'sex'\n",
        "\n",
        "grid_search_4_model = BaselineModel()\n",
        "\n",
        "beta_params = [0.0001, 0.001, 0.01] # For Linear Kernel\n",
        "gamma_params = [0.01, 0.1, 1] # For RBF Kernel\n",
        "kernel_params = ['linear','rbf']\n",
        "cv_params = {'l2_beta': beta_params,'gamma': gamma_params,'kernel':kernel_params}\n",
        "\n",
        "x_data, y_data, s_data = build_adult_data(balanced_dataset,sens_attribute,load_data_size=None)\n",
        "x_train, x_test, y_train, y_test, s_train, s_test = train_test_split(x_data, y_data, s_data, train_size=1200, shuffle=False)\n",
        "\n",
        "grid_ddp_balanced = GridSearchCV(grid_search_4_model,cv_params, cv=size, n_jobs=1, scoring=DDP_scorer)\n",
        "grid_ddp_balanced.fit(x_train, y_train, s_train = s_train)"
      ],
      "execution_count": 9,
      "outputs": [
        {
          "output_type": "execute_result",
          "data": {
            "text/plain": [
              "GridSearchCV(cv=4, error_score=nan,\n",
              "             estimator=BaselineModel(gamma=0.1, kernel='linear', l2_beta=0.001,\n",
              "                                     lambda_max=1, loss_name='hinge',\n",
              "                                     max_iter=3000, reason_points=0.5,\n",
              "                                     solver='SCS', verbose=False),\n",
              "             iid='deprecated', n_jobs=1,\n",
              "             param_grid={'gamma': [0.01, 0.1, 1], 'kernel': ['linear', 'rbf'],\n",
              "                         'l2_beta': [0.0001, 0.001, 0.01]},\n",
              "             pre_dispatch='2*n_jobs', refit=True, return_train_score=False,\n",
              "             scoring=make_scorer(DDP_Grid_Scoring, greater_is_better=False, sens_attr=[ 1  1  1 ...  1 -1  1], size=4),\n",
              "             verbose=0)"
            ]
          },
          "metadata": {
            "tags": []
          },
          "execution_count": 9
        }
      ]
    },
    {
      "cell_type": "code",
      "metadata": {
        "id": "SJ6Aef7v81Xs",
        "colab": {
          "base_uri": "https://localhost:8080/"
        },
        "outputId": "8965e5b5-a05a-4c97-dafe-872f6c9033eb"
      },
      "source": [
        "grid_ddp_balanced.cv_results_"
      ],
      "execution_count": 10,
      "outputs": [
        {
          "output_type": "execute_result",
          "data": {
            "text/plain": [
              "{'mean_fit_time': array([1.14293647, 0.96622515, 0.99136996, 3.24459785, 2.33819675,\n",
              "        1.31030297, 1.15954638, 1.05992919, 1.06448722, 2.3022545 ,\n",
              "        1.25427425, 1.62541431, 1.14398509, 1.06609654, 1.05907977,\n",
              "        6.35938841, 1.16770929, 1.13274539]),\n",
              " 'mean_score_time': array([0.00539607, 0.00420237, 0.00419658, 0.00903559, 0.00915211,\n",
              "        0.01398182, 0.00651681, 0.00446665, 0.00436598, 0.01145381,\n",
              "        0.00897998, 0.00906891, 0.00488275, 0.00550556, 0.00782824,\n",
              "        0.01566988, 0.00916141, 0.01179034]),\n",
              " 'mean_test_score': array([-0.02850451, -0.02850451, -0.02850451, -0.02850451, -0.02850451,\n",
              "        -0.02439119, -0.02850451, -0.02850451, -0.02850451, -0.02650836,\n",
              "        -0.03554107, -0.02850451, -0.02850451, -0.02850451, -0.02850451,\n",
              "        -0.05863447, -0.05238926, -0.05302253]),\n",
              " 'param_gamma': masked_array(data=[0.01, 0.01, 0.01, 0.01, 0.01, 0.01, 0.1, 0.1, 0.1, 0.1,\n",
              "                    0.1, 0.1, 1, 1, 1, 1, 1, 1],\n",
              "              mask=[False, False, False, False, False, False, False, False,\n",
              "                    False, False, False, False, False, False, False, False,\n",
              "                    False, False],\n",
              "        fill_value='?',\n",
              "             dtype=object),\n",
              " 'param_kernel': masked_array(data=['linear', 'linear', 'linear', 'rbf', 'rbf', 'rbf',\n",
              "                    'linear', 'linear', 'linear', 'rbf', 'rbf', 'rbf',\n",
              "                    'linear', 'linear', 'linear', 'rbf', 'rbf', 'rbf'],\n",
              "              mask=[False, False, False, False, False, False, False, False,\n",
              "                    False, False, False, False, False, False, False, False,\n",
              "                    False, False],\n",
              "        fill_value='?',\n",
              "             dtype=object),\n",
              " 'param_l2_beta': masked_array(data=[0.0001, 0.001, 0.01, 0.0001, 0.001, 0.01, 0.0001,\n",
              "                    0.001, 0.01, 0.0001, 0.001, 0.01, 0.0001, 0.001, 0.01,\n",
              "                    0.0001, 0.001, 0.01],\n",
              "              mask=[False, False, False, False, False, False, False, False,\n",
              "                    False, False, False, False, False, False, False, False,\n",
              "                    False, False],\n",
              "        fill_value='?',\n",
              "             dtype=object),\n",
              " 'params': [{'gamma': 0.01, 'kernel': 'linear', 'l2_beta': 0.0001},\n",
              "  {'gamma': 0.01, 'kernel': 'linear', 'l2_beta': 0.001},\n",
              "  {'gamma': 0.01, 'kernel': 'linear', 'l2_beta': 0.01},\n",
              "  {'gamma': 0.01, 'kernel': 'rbf', 'l2_beta': 0.0001},\n",
              "  {'gamma': 0.01, 'kernel': 'rbf', 'l2_beta': 0.001},\n",
              "  {'gamma': 0.01, 'kernel': 'rbf', 'l2_beta': 0.01},\n",
              "  {'gamma': 0.1, 'kernel': 'linear', 'l2_beta': 0.0001},\n",
              "  {'gamma': 0.1, 'kernel': 'linear', 'l2_beta': 0.001},\n",
              "  {'gamma': 0.1, 'kernel': 'linear', 'l2_beta': 0.01},\n",
              "  {'gamma': 0.1, 'kernel': 'rbf', 'l2_beta': 0.0001},\n",
              "  {'gamma': 0.1, 'kernel': 'rbf', 'l2_beta': 0.001},\n",
              "  {'gamma': 0.1, 'kernel': 'rbf', 'l2_beta': 0.01},\n",
              "  {'gamma': 1, 'kernel': 'linear', 'l2_beta': 0.0001},\n",
              "  {'gamma': 1, 'kernel': 'linear', 'l2_beta': 0.001},\n",
              "  {'gamma': 1, 'kernel': 'linear', 'l2_beta': 0.01},\n",
              "  {'gamma': 1, 'kernel': 'rbf', 'l2_beta': 0.0001},\n",
              "  {'gamma': 1, 'kernel': 'rbf', 'l2_beta': 0.001},\n",
              "  {'gamma': 1, 'kernel': 'rbf', 'l2_beta': 0.01}],\n",
              " 'rank_test_score': array([ 3,  3,  3,  3,  3,  1,  3,  3,  3,  2, 15,  3,  3,  3,  3, 18, 16,\n",
              "        17], dtype=int32),\n",
              " 'split0_test_score': array([-0.03874567, -0.03874567, -0.03874567, -0.03874567, -0.03874567,\n",
              "        -0.02382029, -0.03874567, -0.03874567, -0.03874567, -0.0584954 ,\n",
              "        -0.08337102, -0.03874567, -0.03874567, -0.03874567, -0.03874567,\n",
              "        -0.05321875, -0.07854666, -0.11849842]),\n",
              " 'split1_test_score': array([-0.01693405, -0.01693405, -0.01693405, -0.01693405, -0.01693405,\n",
              "        -0.02139037, -0.01693405, -0.01693405, -0.01693405, -0.01633987,\n",
              "        -0.00623886, -0.01693405, -0.01693405, -0.01693405, -0.01693405,\n",
              "        -0.033571  , -0.01901367, -0.033571  ]),\n",
              " 'split2_test_score': array([-0.02105263, -0.02105263, -0.02105263, -0.02105263, -0.02105263,\n",
              "        -0.04698331, -0.02105263, -0.02105263, -0.02105263, -0.02593068,\n",
              "        -0.02105263, -0.02105263, -0.02105263, -0.02105263, -0.02105263,\n",
              "        -0.08112965, -0.06572529, -0.04287548]),\n",
              " 'split3_test_score': array([-0.03728568, -0.03728568, -0.03728568, -0.03728568, -0.03728568,\n",
              "        -0.00537079, -0.03728568, -0.03728568, -0.03728568, -0.00526751,\n",
              "        -0.03150176, -0.03728568, -0.03728568, -0.03728568, -0.03728568,\n",
              "        -0.06661847, -0.04627143, -0.01714522]),\n",
              " 'std_fit_time': array([0.0993862 , 0.02483259, 0.00602634, 0.46788719, 0.58356868,\n",
              "        0.0558603 , 0.10483794, 0.01952012, 0.02261602, 0.34985301,\n",
              "        0.06382005, 0.17522092, 0.1020629 , 0.03327223, 0.03400345,\n",
              "        2.72522249, 0.074355  , 0.0305263 ]),\n",
              " 'std_score_time': array([1.99082238e-03, 4.60024308e-05, 2.18581700e-05, 2.42914370e-04,\n",
              "        2.78514660e-04, 4.13461007e-03, 3.85273390e-03, 1.40638520e-04,\n",
              "        8.44599920e-05, 3.83739238e-03, 8.70648007e-05, 1.44083093e-04,\n",
              "        9.74068207e-04, 1.95593466e-03, 1.35646349e-03, 3.91146733e-03,\n",
              "        2.18146705e-04, 3.81800543e-03]),\n",
              " 'std_test_score': array([0.00963582, 0.00963582, 0.00963582, 0.00963582, 0.00963582,\n",
              "        0.01484512, 0.00963582, 0.00963582, 0.00963582, 0.01986251,\n",
              "        0.02903685, 0.00963582, 0.00963582, 0.00963582, 0.00963582,\n",
              "        0.01751631, 0.02243556, 0.03890886])}"
            ]
          },
          "metadata": {
            "tags": []
          },
          "execution_count": 10
        }
      ]
    },
    {
      "cell_type": "code",
      "metadata": {
        "id": "GJmbxnJOAE6i"
      },
      "source": [
        ""
      ],
      "execution_count": null,
      "outputs": []
    }
  ]
}