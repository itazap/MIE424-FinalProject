{
  "nbformat": 4,
  "nbformat_minor": 0,
  "metadata": {
    "kernelspec": {
      "display_name": "Python 3",
      "language": "python",
      "name": "python3"
    },
    "language_info": {
      "codemirror_mode": {
        "name": "ipython",
        "version": 3
      },
      "file_extension": ".py",
      "mimetype": "text/x-python",
      "name": "python",
      "nbconvert_exporter": "python",
      "pygments_lexer": "ipython3",
      "version": "3.7.6"
    },
    "colab": {
      "name": "BaselineResults.ipynb",
      "provenance": [],
      "collapsed_sections": [],
      "toc_visible": true
    }
  },
  "cells": [
    {
      "cell_type": "code",
      "metadata": {
        "id": "6LNtRkb181Xa",
        "colab": {
          "base_uri": "https://localhost:8080/"
        },
        "outputId": "c4bc7945-3997-400f-dccc-7b8712bb90d7"
      },
      "source": [
        "from src.TestProcedure import *\n",
        "from src.BaselineModel import *\n",
        "from src.AdultData import build_adult_data, normalize\n",
        "\n",
        "import pandas as pd\n",
        "import cvxpy as cp\n",
        "import numpy as np\n",
        "\n",
        "from sklearn.model_selection import KFold\n",
        "from sklearn.model_selection import GridSearchCV, train_test_split\n",
        "from sklearn.metrics.scorer import make_scorer"
      ],
      "execution_count": 1,
      "outputs": [
        {
          "output_type": "stream",
          "text": [
            "/usr/local/lib/python3.7/dist-packages/sklearn/utils/deprecation.py:144: FutureWarning: The sklearn.metrics.scorer module is  deprecated in version 0.22 and will be removed in version 0.24. The corresponding classes / functions should instead be imported from sklearn.metrics. Anything that cannot be imported from sklearn.metrics is now part of the private API.\n",
            "  warnings.warn(message, FutureWarning)\n"
          ],
          "name": "stderr"
        }
      ]
    },
    {
      "cell_type": "code",
      "metadata": {
        "id": "zN4NGUGL81Xd",
        "colab": {
          "base_uri": "https://localhost:8080/"
        },
        "outputId": "ba22c1b4-c052-4897-e30e-4106fc7f4cd8"
      },
      "source": [
        "!git clone https://github.com/mlohaus/SearchFair.git\n",
        "%cd SearchFair"
      ],
      "execution_count": 2,
      "outputs": [
        {
          "output_type": "stream",
          "text": [
            "Cloning into 'SearchFair'...\n",
            "remote: Enumerating objects: 86, done.\u001b[K\n",
            "remote: Counting objects: 100% (86/86), done.\u001b[K\n",
            "remote: Compressing objects: 100% (60/60), done.\u001b[K\n",
            "remote: Total 86 (delta 32), reused 74 (delta 24), pack-reused 0\u001b[K\n",
            "Unpacking objects: 100% (86/86), done.\n",
            "/content/SearchFair\n"
          ],
          "name": "stdout"
        }
      ]
    },
    {
      "cell_type": "markdown",
      "metadata": {
        "id": "4qXh1BGW81Xg"
      },
      "source": [
        "#### Load Unbalanced (Raw) Dataset"
      ]
    },
    {
      "cell_type": "code",
      "metadata": {
        "id": "GOaQYCyj81Xg"
      },
      "source": [
        "# Load data into pandas DataFrame\n",
        "unbalanced_dataset = pd.read_csv('data/adult/adult.csv')\n",
        "\n",
        "# Drop fnlwgt, education, education-num, capital-gain, capital-loss as Lohaus et al do\n",
        "unbalanced_dataset = unbalanced_dataset.drop(columns=['fnlwgt', 'education', 'capital-gain', 'capital-loss'])"
      ],
      "execution_count": 3,
      "outputs": []
    },
    {
      "cell_type": "markdown",
      "metadata": {
        "id": "6OnVSo4H81Xh"
      },
      "source": [
        "#### Load Balanced (Fixed) Dataset"
      ]
    },
    {
      "cell_type": "code",
      "metadata": {
        "id": "ijKhFKee81Xh"
      },
      "source": [
        "# Load data into pandas DataFrame\n",
        "dataset = pd.read_csv('data/adult/adult.csv')\n",
        "data50minus = dataset[dataset[\"income\"].str.contains(\"<=50K\")].iloc[:11687]\n",
        "data50plus = dataset[dataset[\"income\"].str.contains(\">50K\")].iloc[:11687]\n",
        "databalanced = pd.concat([data50minus, data50plus])\n",
        "balanced_dataset = databalanced.sample(frac=1).reset_index(drop=True)\n",
        "# Drop fnlwgt, education, education-num, capital-gain, capital-loss as Lohaus et al do\n",
        "balanced_dataset = balanced_dataset.drop(columns=['fnlwgt', 'education', 'capital-gain', 'capital-loss'])"
      ],
      "execution_count": 12,
      "outputs": []
    },
    {
      "cell_type": "markdown",
      "metadata": {
        "id": "RiCaPsx981Xh"
      },
      "source": [
        "### Baseline Results on Unbalanced Dataset"
      ]
    },
    {
      "cell_type": "code",
      "metadata": {
        "id": "1f5EIDJ081Xi"
      },
      "source": [
        "baseline_linear_hinge_unbalanced = BaselineModel(kernel='linear',loss_name='hinge')\n",
        "baseline_rbf_hinge_unbalanced = BaselineModel(kernel='rbf',loss_name='hinge')"
      ],
      "execution_count": 5,
      "outputs": []
    },
    {
      "cell_type": "markdown",
      "metadata": {
        "id": "nH1vSvZe81Xi"
      },
      "source": [
        "#### Sensitive Attribute = 'Sex' "
      ]
    },
    {
      "cell_type": "code",
      "metadata": {
        "id": "FO_X2-P_81Xi",
        "colab": {
          "base_uri": "https://localhost:8080/"
        },
        "outputId": "049d4edf-6cf4-4a98-b77e-3259addbfe9a"
      },
      "source": [
        "baseline_1_tester = TestProcedure(baseline_linear_hinge_unbalanced)\n",
        "baseline_1_test_results = baseline_1_tester.RunTest(dataset=unbalanced_dataset,sens_attribute='sex')"
      ],
      "execution_count": 6,
      "outputs": [
        {
          "output_type": "stream",
          "text": [
            "Sensitive Attribute: sex\n",
            "Kernel Type: linear\n",
            "Loss Func: hinge\n",
            "Run Time: 2.9782 seconds\n",
            "Prediction Accuracy: 80.7817 %\n",
            "DDP Score: 0.2505\n",
            "DEO Score: 0.1817\n"
          ],
          "name": "stdout"
        }
      ]
    },
    {
      "cell_type": "code",
      "metadata": {
        "id": "YUWNGkKh81Xj",
        "colab": {
          "base_uri": "https://localhost:8080/"
        },
        "outputId": "f7e6781b-8dbb-4cf3-848c-e2fffc14a4ed"
      },
      "source": [
        "baseline_2_tester = TestProcedure(baseline_rbf_hinge_unbalanced)\n",
        "baseline_2_test_results = baseline_2_tester.RunTest(dataset=unbalanced_dataset,sens_attribute='sex')"
      ],
      "execution_count": 7,
      "outputs": [
        {
          "output_type": "stream",
          "text": [
            "Sensitive Attribute: sex\n",
            "Kernel Type: rbf\n",
            "Loss Func: hinge\n",
            "Run Time: 2.6491 seconds\n",
            "Prediction Accuracy: 81.1868 %\n",
            "DDP Score: 0.2377\n",
            "DEO Score: 0.186\n"
          ],
          "name": "stdout"
        }
      ]
    },
    {
      "cell_type": "markdown",
      "metadata": {
        "id": "u2KMwPHn81Xj"
      },
      "source": [
        "#### Sensitive Attribute = 'Race' "
      ]
    },
    {
      "cell_type": "code",
      "metadata": {
        "id": "hEQBWWED81Xj",
        "colab": {
          "base_uri": "https://localhost:8080/"
        },
        "outputId": "5aeba822-d04b-49ec-88f6-8b30d439efde"
      },
      "source": [
        "baseline_3_tester = TestProcedure(baseline_linear_hinge_unbalanced)\n",
        "baseline_3_test_results = baseline_3_tester.RunTest(dataset=unbalanced_dataset,sens_attribute='race')"
      ],
      "execution_count": 8,
      "outputs": [
        {
          "output_type": "stream",
          "text": [
            "Sensitive Attribute: race\n",
            "Kernel Type: linear\n",
            "Loss Func: hinge\n",
            "Run Time: 2.2018 seconds\n",
            "Prediction Accuracy: 80.7271 %\n",
            "DDP Score: 0.0956\n",
            "DEO Score: 0.0135\n"
          ],
          "name": "stdout"
        }
      ]
    },
    {
      "cell_type": "code",
      "metadata": {
        "id": "tho49ICO81Xk",
        "colab": {
          "base_uri": "https://localhost:8080/"
        },
        "outputId": "dca6b197-0512-4a7c-9c82-62cd99ccfc75"
      },
      "source": [
        "baseline_4_tester = TestProcedure(baseline_rbf_hinge_unbalanced)\n",
        "baseline_4_test_results = baseline_4_tester.RunTest(dataset=unbalanced_dataset,sens_attribute='race')"
      ],
      "execution_count": 9,
      "outputs": [
        {
          "output_type": "stream",
          "text": [
            "Sensitive Attribute: race\n",
            "Kernel Type: rbf\n",
            "Loss Func: hinge\n",
            "Run Time: 2.403 seconds\n",
            "Prediction Accuracy: 81.0482 %\n",
            "DDP Score: 0.0819\n",
            "DEO Score: 0.0414\n"
          ],
          "name": "stdout"
        }
      ]
    },
    {
      "cell_type": "markdown",
      "metadata": {
        "id": "pEIP1B1381Xk"
      },
      "source": [
        "### Baseline Results on Balanced Dataset"
      ]
    },
    {
      "cell_type": "code",
      "metadata": {
        "id": "V2SXKhpO81Xk"
      },
      "source": [
        "baseline_linear_hinge_balanced = BaselineModel(kernel='linear',loss_name='hinge')\n",
        "baseline_rbf_hinge_balanced = BaselineModel(kernel='rbf',loss_name='hinge')"
      ],
      "execution_count": 10,
      "outputs": []
    },
    {
      "cell_type": "markdown",
      "metadata": {
        "id": "JijfC1dG81Xk"
      },
      "source": [
        "#### Sensitive Attribute = 'Sex'"
      ]
    },
    {
      "cell_type": "code",
      "metadata": {
        "id": "D7R6JKiN81Xl",
        "colab": {
          "base_uri": "https://localhost:8080/"
        },
        "outputId": "576291bd-9f2b-453b-994a-7c47f4262536"
      },
      "source": [
        "baseline_5_tester = TestProcedure(baseline_linear_hinge_balanced)\n",
        "baseline_5_test_results = baseline_5_tester.RunTest(dataset=balanced_dataset,sens_attribute='sex')"
      ],
      "execution_count": 13,
      "outputs": [
        {
          "output_type": "stream",
          "text": [
            "Sensitive Attribute: sex\n",
            "Kernel Type: linear\n",
            "Loss Func: hinge\n",
            "Run Time: 4.1837 seconds\n",
            "Prediction Accuracy: 75.9042 %\n",
            "DDP Score: 0.4726\n",
            "DEO Score: 0.264\n"
          ],
          "name": "stdout"
        }
      ]
    },
    {
      "cell_type": "code",
      "metadata": {
        "id": "kp9-SLN081Xl",
        "colab": {
          "base_uri": "https://localhost:8080/"
        },
        "outputId": "a2c66531-8168-45db-a32e-0d035fac6eff"
      },
      "source": [
        "baseline_6_tester = TestProcedure(baseline_rbf_hinge_balanced)\n",
        "baseline_6_test_results = baseline_6_tester.RunTest(dataset=balanced_dataset,sens_attribute='sex')"
      ],
      "execution_count": 14,
      "outputs": [
        {
          "output_type": "stream",
          "text": [
            "Sensitive Attribute: sex\n",
            "Kernel Type: rbf\n",
            "Loss Func: hinge\n",
            "Run Time: 2.7295 seconds\n",
            "Prediction Accuracy: 77.1399 %\n",
            "DDP Score: 0.4528\n",
            "DEO Score: 0.2752\n"
          ],
          "name": "stdout"
        }
      ]
    },
    {
      "cell_type": "markdown",
      "metadata": {
        "id": "q7thqHqj81Xl"
      },
      "source": [
        "#### Sensitive Attribute = 'Race' "
      ]
    },
    {
      "cell_type": "code",
      "metadata": {
        "id": "gb6MgAuw81Xl",
        "colab": {
          "base_uri": "https://localhost:8080/"
        },
        "outputId": "44c676cb-c364-4d32-ba25-952998966e5d"
      },
      "source": [
        "baseline_7_tester = TestProcedure(baseline_linear_hinge_balanced)\n",
        "baseline_7_test_results = baseline_7_tester.RunTest(dataset=balanced_dataset,sens_attribute='race')"
      ],
      "execution_count": 15,
      "outputs": [
        {
          "output_type": "stream",
          "text": [
            "Sensitive Attribute: race\n",
            "Kernel Type: linear\n",
            "Loss Func: hinge\n",
            "Run Time: 2.0199 seconds\n",
            "Prediction Accuracy: 75.9764 %\n",
            "DDP Score: 0.1552\n",
            "DEO Score: 0.0423\n"
          ],
          "name": "stdout"
        }
      ]
    },
    {
      "cell_type": "code",
      "metadata": {
        "id": "0jzJ3uKe81Xm",
        "colab": {
          "base_uri": "https://localhost:8080/"
        },
        "outputId": "3ab3d17a-5031-4abf-9e39-38ae6aa1d25b"
      },
      "source": [
        "baseline_8_tester = TestProcedure(baseline_rbf_hinge_balanced)\n",
        "baseline_8_test_results = baseline_8_tester.RunTest(dataset=balanced_dataset,sens_attribute='race')"
      ],
      "execution_count": 16,
      "outputs": [
        {
          "output_type": "stream",
          "text": [
            "Sensitive Attribute: race\n",
            "Kernel Type: rbf\n",
            "Loss Func: hinge\n",
            "Run Time: 2.4019 seconds\n",
            "Prediction Accuracy: 76.1568 %\n",
            "DDP Score: 0.1623\n",
            "DEO Score: 0.0478\n"
          ],
          "name": "stdout"
        }
      ]
    },
    {
      "cell_type": "markdown",
      "metadata": {
        "id": "YJxNtDYj81Xm"
      },
      "source": [
        "## Baseline Hyperparameter Grid Search **for Accuracy**"
      ]
    },
    {
      "cell_type": "markdown",
      "metadata": {
        "id": "MbKNCjLz81Xm"
      },
      "source": [
        "### Unbalanced Dataset "
      ]
    },
    {
      "cell_type": "code",
      "metadata": {
        "id": "E6oSflLM81Xm",
        "colab": {
          "base_uri": "https://localhost:8080/"
        },
        "outputId": "c6efbb37-016d-401c-e2b3-a2380876de36"
      },
      "source": [
        "sens_attribute = 'sex'\n",
        "\n",
        "grid_search_1_model = BaselineModel()\n",
        "\n",
        "beta_params = [0.0001, 0.001, 0.01] # For Linear Kernel\n",
        "gamma_params = [0.01, 0.1, 1] # For RBF Kernel\n",
        "kernel_params = ['linear','rbf']\n",
        "cv_params = {'l2_beta': beta_params,'gamma': gamma_params,'kernel':kernel_params}\n",
        "\n",
        "x_data, y_data, s_data = build_adult_data(unbalanced_dataset,sens_attribute,load_data_size=None)\n",
        "x_train, x_test, y_train, y_test, s_train, s_test = train_test_split(x_data, y_data, s_data, train_size=1200, shuffle=True)\n",
        "\n",
        "grid_accuracy_unbalanced = GridSearchCV(grid_search_1_model,cv_params, cv=4, n_jobs=1, scoring='accuracy')\n",
        "grid_accuracy_unbalanced.fit(x_train, y_train, s_train = s_train)"
      ],
      "execution_count": 17,
      "outputs": [
        {
          "output_type": "execute_result",
          "data": {
            "text/plain": [
              "GridSearchCV(cv=4, error_score=nan,\n",
              "             estimator=BaselineModel(gamma=0.1, kernel='linear', l2_beta=0.001,\n",
              "                                     lambda_max=1, loss_name='hinge',\n",
              "                                     max_iter=3000, reason_points=0.5,\n",
              "                                     solver='SCS', verbose=False),\n",
              "             iid='deprecated', n_jobs=1,\n",
              "             param_grid={'gamma': [0.01, 0.1, 1], 'kernel': ['linear', 'rbf'],\n",
              "                         'l2_beta': [0.0001, 0.001, 0.01]},\n",
              "             pre_dispatch='2*n_jobs', refit=True, return_train_score=False,\n",
              "             scoring='accuracy', verbose=0)"
            ]
          },
          "metadata": {
            "tags": []
          },
          "execution_count": 17
        }
      ]
    },
    {
      "cell_type": "code",
      "metadata": {
        "id": "WFUNvIIk81Xn",
        "colab": {
          "base_uri": "https://localhost:8080/"
        },
        "outputId": "55ecefcf-9323-4521-b768-09e615d11faa"
      },
      "source": [
        "grid_accuracy_unbalanced.cv_results_"
      ],
      "execution_count": 18,
      "outputs": [
        {
          "output_type": "execute_result",
          "data": {
            "text/plain": [
              "{'mean_fit_time': array([1.20719606, 1.2784189 , 1.19964206, 6.80310798, 1.39515048,\n",
              "        1.88843232, 1.14222383, 1.16476566, 1.11116141, 1.81194919,\n",
              "        1.15477502, 1.41130453, 1.10925257, 1.13331962, 1.06920606,\n",
              "        8.39622611, 1.36117834, 1.23755175]),\n",
              " 'mean_score_time': array([0.00179774, 0.00433099, 0.00179869, 0.0086382 , 0.00708729,\n",
              "        0.01316088, 0.00286865, 0.00171763, 0.00163621, 0.00628066,\n",
              "        0.00634682, 0.00643331, 0.00168717, 0.0017342 , 0.00167555,\n",
              "        0.01085103, 0.00638688, 0.00668693]),\n",
              " 'mean_test_score': array([0.81083333, 0.81083333, 0.81083333, 0.81083333, 0.81583333,\n",
              "        0.75416667, 0.81083333, 0.81083333, 0.81083333, 0.81333333,\n",
              "        0.81      , 0.81083333, 0.81083333, 0.81083333, 0.81083333,\n",
              "        0.81833333, 0.82166667, 0.82583333]),\n",
              " 'param_gamma': masked_array(data=[0.01, 0.01, 0.01, 0.01, 0.01, 0.01, 0.1, 0.1, 0.1, 0.1,\n",
              "                    0.1, 0.1, 1, 1, 1, 1, 1, 1],\n",
              "              mask=[False, False, False, False, False, False, False, False,\n",
              "                    False, False, False, False, False, False, False, False,\n",
              "                    False, False],\n",
              "        fill_value='?',\n",
              "             dtype=object),\n",
              " 'param_kernel': masked_array(data=['linear', 'linear', 'linear', 'rbf', 'rbf', 'rbf',\n",
              "                    'linear', 'linear', 'linear', 'rbf', 'rbf', 'rbf',\n",
              "                    'linear', 'linear', 'linear', 'rbf', 'rbf', 'rbf'],\n",
              "              mask=[False, False, False, False, False, False, False, False,\n",
              "                    False, False, False, False, False, False, False, False,\n",
              "                    False, False],\n",
              "        fill_value='?',\n",
              "             dtype=object),\n",
              " 'param_l2_beta': masked_array(data=[0.0001, 0.001, 0.01, 0.0001, 0.001, 0.01, 0.0001,\n",
              "                    0.001, 0.01, 0.0001, 0.001, 0.01, 0.0001, 0.001, 0.01,\n",
              "                    0.0001, 0.001, 0.01],\n",
              "              mask=[False, False, False, False, False, False, False, False,\n",
              "                    False, False, False, False, False, False, False, False,\n",
              "                    False, False],\n",
              "        fill_value='?',\n",
              "             dtype=object),\n",
              " 'params': [{'gamma': 0.01, 'kernel': 'linear', 'l2_beta': 0.0001},\n",
              "  {'gamma': 0.01, 'kernel': 'linear', 'l2_beta': 0.001},\n",
              "  {'gamma': 0.01, 'kernel': 'linear', 'l2_beta': 0.01},\n",
              "  {'gamma': 0.01, 'kernel': 'rbf', 'l2_beta': 0.0001},\n",
              "  {'gamma': 0.01, 'kernel': 'rbf', 'l2_beta': 0.001},\n",
              "  {'gamma': 0.01, 'kernel': 'rbf', 'l2_beta': 0.01},\n",
              "  {'gamma': 0.1, 'kernel': 'linear', 'l2_beta': 0.0001},\n",
              "  {'gamma': 0.1, 'kernel': 'linear', 'l2_beta': 0.001},\n",
              "  {'gamma': 0.1, 'kernel': 'linear', 'l2_beta': 0.01},\n",
              "  {'gamma': 0.1, 'kernel': 'rbf', 'l2_beta': 0.0001},\n",
              "  {'gamma': 0.1, 'kernel': 'rbf', 'l2_beta': 0.001},\n",
              "  {'gamma': 0.1, 'kernel': 'rbf', 'l2_beta': 0.01},\n",
              "  {'gamma': 1, 'kernel': 'linear', 'l2_beta': 0.0001},\n",
              "  {'gamma': 1, 'kernel': 'linear', 'l2_beta': 0.001},\n",
              "  {'gamma': 1, 'kernel': 'linear', 'l2_beta': 0.01},\n",
              "  {'gamma': 1, 'kernel': 'rbf', 'l2_beta': 0.0001},\n",
              "  {'gamma': 1, 'kernel': 'rbf', 'l2_beta': 0.001},\n",
              "  {'gamma': 1, 'kernel': 'rbf', 'l2_beta': 0.01}],\n",
              " 'rank_test_score': array([ 6,  6,  6,  6,  4, 18,  6,  6,  6,  5, 17,  6,  6,  6,  6,  3,  2,\n",
              "         1], dtype=int32),\n",
              " 'split0_test_score': array([0.83666667, 0.83666667, 0.83666667, 0.83666667, 0.85      ,\n",
              "        0.82666667, 0.83666667, 0.83666667, 0.83666667, 0.83333333,\n",
              "        0.84      , 0.83666667, 0.83666667, 0.83666667, 0.83666667,\n",
              "        0.85666667, 0.85666667, 0.85333333]),\n",
              " 'split1_test_score': array([0.79333333, 0.79333333, 0.79333333, 0.79333333, 0.80333333,\n",
              "        0.73666667, 0.79333333, 0.79333333, 0.79333333, 0.81333333,\n",
              "        0.81333333, 0.79333333, 0.79333333, 0.79333333, 0.79333333,\n",
              "        0.82      , 0.82      , 0.82      ]),\n",
              " 'split2_test_score': array([0.79333333, 0.79333333, 0.79333333, 0.79333333, 0.79333333,\n",
              "        0.74      , 0.79333333, 0.79333333, 0.79333333, 0.81333333,\n",
              "        0.79333333, 0.79333333, 0.79333333, 0.79333333, 0.79333333,\n",
              "        0.81      , 0.81333333, 0.83      ]),\n",
              " 'split3_test_score': array([0.82      , 0.82      , 0.82      , 0.82      , 0.81666667,\n",
              "        0.71333333, 0.82      , 0.82      , 0.82      , 0.79333333,\n",
              "        0.79333333, 0.82      , 0.82      , 0.82      , 0.82      ,\n",
              "        0.78666667, 0.79666667, 0.8       ]),\n",
              " 'std_fit_time': array([0.17465047, 0.20163634, 0.10822206, 5.17929739, 0.08315481,\n",
              "        0.48074677, 0.19696168, 0.16733091, 0.14355875, 0.1677825 ,\n",
              "        0.02658006, 0.08444638, 0.17452729, 0.18005574, 0.10863486,\n",
              "        4.14971143, 0.1047844 , 0.08360778]),\n",
              " 'std_score_time': array([9.17263197e-05, 2.63961190e-03, 2.11271310e-04, 3.88303395e-03,\n",
              "        7.16288980e-04, 3.83115893e-03, 2.15955407e-03, 3.55648983e-05,\n",
              "        2.73487909e-05, 2.54834778e-05, 5.64011136e-05, 2.29318481e-04,\n",
              "        4.90431422e-05, 6.53902616e-05, 6.55998604e-05, 4.63321663e-03,\n",
              "        5.04587731e-05, 4.33025148e-04]),\n",
              " 'std_test_score': array([0.01846543, 0.01846543, 0.01846543, 0.01846543, 0.0213925 ,\n",
              "        0.04310034, 0.01846543, 0.01846543, 0.01846543, 0.01414214,\n",
              "        0.01914854, 0.01846543, 0.01846543, 0.01846543, 0.01846543,\n",
              "        0.02522124, 0.02192158, 0.01920286])}"
            ]
          },
          "metadata": {
            "tags": []
          },
          "execution_count": 18
        }
      ]
    },
    {
      "cell_type": "markdown",
      "metadata": {
        "id": "DrO4mGZ281Xn"
      },
      "source": [
        "### Balanced Dataset "
      ]
    },
    {
      "cell_type": "code",
      "metadata": {
        "id": "sMKtjcg481Xn",
        "colab": {
          "base_uri": "https://localhost:8080/"
        },
        "outputId": "9f0eca9d-3a4d-4ea7-da82-8aa35f4f2536"
      },
      "source": [
        "grid_search_2_model = BaselineModel()\n",
        "\n",
        "beta_params = [0.0001, 0.001, 0.01] # For Linear Kernel\n",
        "gamma_params = [0.01, 0.1, 1] # For RBF Kernel\n",
        "kernel_params = ['linear','rbf']\n",
        "cv_params = {'l2_beta': beta_params,'gamma': gamma_params,'kernel':kernel_params}\n",
        "\n",
        "x_data, y_data, s_data = build_adult_data(balanced_dataset,sens_attribute,load_data_size=None)\n",
        "x_train, x_test, y_train, y_test, s_train, s_test = train_test_split(x_data, y_data, s_data, train_size=1200, shuffle=True)\n",
        "\n",
        "grid_accuracy_balanced = GridSearchCV(grid_search_2_model,cv_params, cv=4, n_jobs=1, scoring='accuracy')\n",
        "grid_accuracy_balanced.fit(x_train, y_train, s_train = s_train)"
      ],
      "execution_count": 19,
      "outputs": [
        {
          "output_type": "execute_result",
          "data": {
            "text/plain": [
              "GridSearchCV(cv=4, error_score=nan,\n",
              "             estimator=BaselineModel(gamma=0.1, kernel='linear', l2_beta=0.001,\n",
              "                                     lambda_max=1, loss_name='hinge',\n",
              "                                     max_iter=3000, reason_points=0.5,\n",
              "                                     solver='SCS', verbose=False),\n",
              "             iid='deprecated', n_jobs=1,\n",
              "             param_grid={'gamma': [0.01, 0.1, 1], 'kernel': ['linear', 'rbf'],\n",
              "                         'l2_beta': [0.0001, 0.001, 0.01]},\n",
              "             pre_dispatch='2*n_jobs', refit=True, return_train_score=False,\n",
              "             scoring='accuracy', verbose=0)"
            ]
          },
          "metadata": {
            "tags": []
          },
          "execution_count": 19
        }
      ]
    },
    {
      "cell_type": "code",
      "metadata": {
        "id": "EcHLfYmo81Xo",
        "colab": {
          "base_uri": "https://localhost:8080/"
        },
        "outputId": "74ec4bd2-bad4-41b7-85c8-21a84271a712"
      },
      "source": [
        "grid_accuracy_balanced.cv_results_"
      ],
      "execution_count": 20,
      "outputs": [
        {
          "output_type": "execute_result",
          "data": {
            "text/plain": [
              "{'mean_fit_time': array([1.09765297, 0.9905321 , 1.00305456, 4.18562233, 1.90989661,\n",
              "        1.40704501, 1.04397076, 0.98558491, 0.94311798, 2.2928803 ,\n",
              "        1.20332927, 1.69422036, 1.09758472, 0.99101532, 0.98380077,\n",
              "        5.58235627, 1.13196176, 1.20283735]),\n",
              " 'mean_score_time': array([0.00235182, 0.00237882, 0.00178182, 0.0109877 , 0.00637692,\n",
              "        0.008524  , 0.00281286, 0.00546473, 0.00171304, 0.00682014,\n",
              "        0.00865889, 0.01067275, 0.00266516, 0.00186557, 0.00295907,\n",
              "        0.00635469, 0.00633723, 0.00722808]),\n",
              " 'mean_test_score': array([0.7725    , 0.7725    , 0.7725    , 0.7725    , 0.7725    ,\n",
              "        0.77583333, 0.7725    , 0.7725    , 0.7725    , 0.7625    ,\n",
              "        0.76916667, 0.7725    , 0.7725    , 0.7725    , 0.7725    ,\n",
              "        0.77166667, 0.77166667, 0.7775    ]),\n",
              " 'param_gamma': masked_array(data=[0.01, 0.01, 0.01, 0.01, 0.01, 0.01, 0.1, 0.1, 0.1, 0.1,\n",
              "                    0.1, 0.1, 1, 1, 1, 1, 1, 1],\n",
              "              mask=[False, False, False, False, False, False, False, False,\n",
              "                    False, False, False, False, False, False, False, False,\n",
              "                    False, False],\n",
              "        fill_value='?',\n",
              "             dtype=object),\n",
              " 'param_kernel': masked_array(data=['linear', 'linear', 'linear', 'rbf', 'rbf', 'rbf',\n",
              "                    'linear', 'linear', 'linear', 'rbf', 'rbf', 'rbf',\n",
              "                    'linear', 'linear', 'linear', 'rbf', 'rbf', 'rbf'],\n",
              "              mask=[False, False, False, False, False, False, False, False,\n",
              "                    False, False, False, False, False, False, False, False,\n",
              "                    False, False],\n",
              "        fill_value='?',\n",
              "             dtype=object),\n",
              " 'param_l2_beta': masked_array(data=[0.0001, 0.001, 0.01, 0.0001, 0.001, 0.01, 0.0001,\n",
              "                    0.001, 0.01, 0.0001, 0.001, 0.01, 0.0001, 0.001, 0.01,\n",
              "                    0.0001, 0.001, 0.01],\n",
              "              mask=[False, False, False, False, False, False, False, False,\n",
              "                    False, False, False, False, False, False, False, False,\n",
              "                    False, False],\n",
              "        fill_value='?',\n",
              "             dtype=object),\n",
              " 'params': [{'gamma': 0.01, 'kernel': 'linear', 'l2_beta': 0.0001},\n",
              "  {'gamma': 0.01, 'kernel': 'linear', 'l2_beta': 0.001},\n",
              "  {'gamma': 0.01, 'kernel': 'linear', 'l2_beta': 0.01},\n",
              "  {'gamma': 0.01, 'kernel': 'rbf', 'l2_beta': 0.0001},\n",
              "  {'gamma': 0.01, 'kernel': 'rbf', 'l2_beta': 0.001},\n",
              "  {'gamma': 0.01, 'kernel': 'rbf', 'l2_beta': 0.01},\n",
              "  {'gamma': 0.1, 'kernel': 'linear', 'l2_beta': 0.0001},\n",
              "  {'gamma': 0.1, 'kernel': 'linear', 'l2_beta': 0.001},\n",
              "  {'gamma': 0.1, 'kernel': 'linear', 'l2_beta': 0.01},\n",
              "  {'gamma': 0.1, 'kernel': 'rbf', 'l2_beta': 0.0001},\n",
              "  {'gamma': 0.1, 'kernel': 'rbf', 'l2_beta': 0.001},\n",
              "  {'gamma': 0.1, 'kernel': 'rbf', 'l2_beta': 0.01},\n",
              "  {'gamma': 1, 'kernel': 'linear', 'l2_beta': 0.0001},\n",
              "  {'gamma': 1, 'kernel': 'linear', 'l2_beta': 0.001},\n",
              "  {'gamma': 1, 'kernel': 'linear', 'l2_beta': 0.01},\n",
              "  {'gamma': 1, 'kernel': 'rbf', 'l2_beta': 0.0001},\n",
              "  {'gamma': 1, 'kernel': 'rbf', 'l2_beta': 0.001},\n",
              "  {'gamma': 1, 'kernel': 'rbf', 'l2_beta': 0.01}],\n",
              " 'rank_test_score': array([ 3,  3,  3,  3,  3,  2,  3,  3,  3, 18, 17,  3,  3,  3,  3, 15, 15,\n",
              "         1], dtype=int32),\n",
              " 'split0_test_score': array([0.79      , 0.79      , 0.79      , 0.79      , 0.79      ,\n",
              "        0.79333333, 0.79      , 0.79      , 0.79      , 0.77      ,\n",
              "        0.79      , 0.79      , 0.79      , 0.79      , 0.79      ,\n",
              "        0.78666667, 0.77666667, 0.78666667]),\n",
              " 'split1_test_score': array([0.76666667, 0.76666667, 0.76666667, 0.76666667, 0.76666667,\n",
              "        0.77      , 0.76666667, 0.76666667, 0.76666667, 0.76      ,\n",
              "        0.76666667, 0.76666667, 0.76666667, 0.76666667, 0.76666667,\n",
              "        0.77666667, 0.77      , 0.77333333]),\n",
              " 'split2_test_score': array([0.79      , 0.79      , 0.79      , 0.79      , 0.79      ,\n",
              "        0.78666667, 0.79      , 0.79      , 0.79      , 0.78333333,\n",
              "        0.77666667, 0.79      , 0.79      , 0.79      , 0.79      ,\n",
              "        0.75666667, 0.77      , 0.78333333]),\n",
              " 'split3_test_score': array([0.74333333, 0.74333333, 0.74333333, 0.74333333, 0.74333333,\n",
              "        0.75333333, 0.74333333, 0.74333333, 0.74333333, 0.73666667,\n",
              "        0.74333333, 0.74333333, 0.74333333, 0.74333333, 0.74333333,\n",
              "        0.76666667, 0.77      , 0.76666667]),\n",
              " 'std_fit_time': array([0.03491975, 0.0314874 , 0.04403152, 1.17444904, 0.14550542,\n",
              "        0.11054867, 0.04311117, 0.04162316, 0.03781102, 0.50113545,\n",
              "        0.03867314, 0.07202713, 0.05782533, 0.03792639, 0.04707241,\n",
              "        2.5024261 , 0.07942421, 0.05329509]),\n",
              " 'std_score_time': array([1.13437299e-03, 1.03600536e-03, 9.95151981e-05, 4.28609771e-03,\n",
              "        1.03833601e-04, 3.90658040e-03, 1.98518907e-03, 2.26726311e-03,\n",
              "        9.93816611e-05, 9.25587805e-04, 3.79275809e-03, 4.42798386e-03,\n",
              "        1.63634271e-03, 1.41992264e-04, 1.91897875e-03, 3.80934772e-05,\n",
              "        5.79485602e-05, 9.46024618e-04]),\n",
              " 'std_test_score': array([0.01934698, 0.01934698, 0.01934698, 0.01934698, 0.01934698,\n",
              "        0.01552328, 0.01934698, 0.01934698, 0.01934698, 0.01705791,\n",
              "        0.01705791, 0.01934698, 0.01934698, 0.01934698, 0.01934698,\n",
              "        0.01118034, 0.00288675, 0.00794949])}"
            ]
          },
          "metadata": {
            "tags": []
          },
          "execution_count": 20
        }
      ]
    },
    {
      "cell_type": "markdown",
      "metadata": {
        "id": "8NykG2u081Xo"
      },
      "source": [
        "## Baseline Hyperparameter Grid Search **for DDP**"
      ]
    },
    {
      "cell_type": "code",
      "metadata": {
        "id": "fdDqeVsj81Xp"
      },
      "source": [
        "grid_split_counter = 1\n",
        "\n",
        "def get_positive_rate(y_predicted, y_true):\n",
        "    tn, fp, fn, tp = confusion_matrix(y_true, y_predicted).ravel()\n",
        "    pr = (tp+fp) / (tp+fp+tn+fn)\n",
        "    return pr\n",
        "\n",
        "def DDP_Grid_Scoring(y_true,y_predicted,sens_attr,size):\n",
        "    global grid_split_counter\n",
        "    \n",
        "    chunk_size = 1200/size\n",
        "    sens_attribute = sens_attr[int((grid_split_counter - 1)*chunk_size): int(grid_split_counter*chunk_size)]\n",
        "    \n",
        "    if grid_split_counter == size:\n",
        "        grid_split_counter = 1\n",
        "    else:\n",
        "        grid_split_counter += 1\n",
        "    \n",
        "    positive_rate_prot = get_positive_rate(y_predicted[sens_attribute==-1], y_true[sens_attribute==-1])\n",
        "    positive_rate_unprot = get_positive_rate(y_predicted[sens_attribute==1], y_true[sens_attribute==1])\n",
        "    \n",
        "    DDP = abs(positive_rate_unprot - positive_rate_prot)\n",
        "    return DDP\n",
        "size = 4\n",
        "DDP_scorer = make_scorer(DDP_Grid_Scoring, greater_is_better=False, sens_attr = s_train, size = size)"
      ],
      "execution_count": 22,
      "outputs": []
    },
    {
      "cell_type": "markdown",
      "metadata": {
        "id": "oEpKh1pI81Xr"
      },
      "source": [
        "### Unbalanced Dataset "
      ]
    },
    {
      "cell_type": "code",
      "metadata": {
        "id": "985aFcK781Xr",
        "colab": {
          "base_uri": "https://localhost:8080/"
        },
        "outputId": "ae7f3142-abe7-4419-9d3e-1e354a289a2c"
      },
      "source": [
        "grid_search_3_model = BaselineModel()\n",
        "\n",
        "beta_params = [0.0001, 0.001, 0.01] # For Linear Kernel\n",
        "gamma_params = [0.01, 0.1, 1] # For RBF Kernel\n",
        "kernel_params = ['linear','rbf']\n",
        "cv_params = {'l2_beta': beta_params,'gamma': gamma_params,'kernel':kernel_params}\n",
        "\n",
        "x_data, y_data, s_data = build_adult_data(unbalanced_dataset,sens_attribute,load_data_size=None)\n",
        "x_train, x_test, y_train, y_test, s_train, s_test = train_test_split(x_data, y_data, s_data, train_size=1200, shuffle=True)\n",
        "\n",
        "grid_ddp_unbalanced = GridSearchCV(grid_search_3_model,cv_params, cv=size, n_jobs=1, scoring=DDP_scorer)\n",
        "grid_ddp_unbalanced.fit(x_train, y_train, s_train = s_train)"
      ],
      "execution_count": 23,
      "outputs": [
        {
          "output_type": "execute_result",
          "data": {
            "text/plain": [
              "GridSearchCV(cv=4, error_score=nan,\n",
              "             estimator=BaselineModel(gamma=0.1, kernel='linear', l2_beta=0.001,\n",
              "                                     lambda_max=1, loss_name='hinge',\n",
              "                                     max_iter=3000, reason_points=0.5,\n",
              "                                     solver='SCS', verbose=False),\n",
              "             iid='deprecated', n_jobs=1,\n",
              "             param_grid={'gamma': [0.01, 0.1, 1], 'kernel': ['linear', 'rbf'],\n",
              "                         'l2_beta': [0.0001, 0.001, 0.01]},\n",
              "             pre_dispatch='2*n_jobs', refit=True, return_train_score=False,\n",
              "             scoring=make_scorer(DDP_Grid_Scoring, greater_is_better=False, sens_attr=[-1  1  1 ...  1  1 -1], size=4),\n",
              "             verbose=0)"
            ]
          },
          "metadata": {
            "tags": []
          },
          "execution_count": 23
        }
      ]
    },
    {
      "cell_type": "code",
      "metadata": {
        "id": "odTEJar681Xr",
        "colab": {
          "base_uri": "https://localhost:8080/"
        },
        "outputId": "5e5fec8c-1880-4d49-f784-c4da78d9b2ad"
      },
      "source": [
        "grid_ddp_unbalanced.cv_results_"
      ],
      "execution_count": 24,
      "outputs": [
        {
          "output_type": "execute_result",
          "data": {
            "text/plain": [
              "{'mean_fit_time': array([ 2.22848421,  3.00039572,  3.30898368,  3.7470513 ,  2.57386315,\n",
              "         1.84289491,  2.26280993,  3.08184487,  3.27925593,  2.24854636,\n",
              "         1.23800302,  1.60500914,  2.25885379,  3.05390179,  3.31596917,\n",
              "        13.27474719,  1.48426509,  1.27812821]),\n",
              " 'mean_score_time': array([0.00431025, 0.00416374, 0.00554878, 0.00912488, 0.01007831,\n",
              "        0.01039159, 0.00539005, 0.00422239, 0.00453377, 0.01194519,\n",
              "        0.00927061, 0.01337504, 0.00416052, 0.00567204, 0.00426328,\n",
              "        0.01131594, 0.00912982, 0.01148134]),\n",
              " 'mean_test_score': array([-0.0675471 , -0.05998992, -0.04440507, -0.04637923, -0.02826469,\n",
              "         0.        , -0.0675471 , -0.05998992, -0.04440507, -0.03512819,\n",
              "        -0.05058532, -0.04738412, -0.0675471 , -0.05998992, -0.04440507,\n",
              "        -0.02860516, -0.02724336, -0.0206946 ]),\n",
              " 'param_gamma': masked_array(data=[0.01, 0.01, 0.01, 0.01, 0.01, 0.01, 0.1, 0.1, 0.1, 0.1,\n",
              "                    0.1, 0.1, 1, 1, 1, 1, 1, 1],\n",
              "              mask=[False, False, False, False, False, False, False, False,\n",
              "                    False, False, False, False, False, False, False, False,\n",
              "                    False, False],\n",
              "        fill_value='?',\n",
              "             dtype=object),\n",
              " 'param_kernel': masked_array(data=['linear', 'linear', 'linear', 'rbf', 'rbf', 'rbf',\n",
              "                    'linear', 'linear', 'linear', 'rbf', 'rbf', 'rbf',\n",
              "                    'linear', 'linear', 'linear', 'rbf', 'rbf', 'rbf'],\n",
              "              mask=[False, False, False, False, False, False, False, False,\n",
              "                    False, False, False, False, False, False, False, False,\n",
              "                    False, False],\n",
              "        fill_value='?',\n",
              "             dtype=object),\n",
              " 'param_l2_beta': masked_array(data=[0.0001, 0.001, 0.01, 0.0001, 0.001, 0.01, 0.0001,\n",
              "                    0.001, 0.01, 0.0001, 0.001, 0.01, 0.0001, 0.001, 0.01,\n",
              "                    0.0001, 0.001, 0.01],\n",
              "              mask=[False, False, False, False, False, False, False, False,\n",
              "                    False, False, False, False, False, False, False, False,\n",
              "                    False, False],\n",
              "        fill_value='?',\n",
              "             dtype=object),\n",
              " 'params': [{'gamma': 0.01, 'kernel': 'linear', 'l2_beta': 0.0001},\n",
              "  {'gamma': 0.01, 'kernel': 'linear', 'l2_beta': 0.001},\n",
              "  {'gamma': 0.01, 'kernel': 'linear', 'l2_beta': 0.01},\n",
              "  {'gamma': 0.01, 'kernel': 'rbf', 'l2_beta': 0.0001},\n",
              "  {'gamma': 0.01, 'kernel': 'rbf', 'l2_beta': 0.001},\n",
              "  {'gamma': 0.01, 'kernel': 'rbf', 'l2_beta': 0.01},\n",
              "  {'gamma': 0.1, 'kernel': 'linear', 'l2_beta': 0.0001},\n",
              "  {'gamma': 0.1, 'kernel': 'linear', 'l2_beta': 0.001},\n",
              "  {'gamma': 0.1, 'kernel': 'linear', 'l2_beta': 0.01},\n",
              "  {'gamma': 0.1, 'kernel': 'rbf', 'l2_beta': 0.0001},\n",
              "  {'gamma': 0.1, 'kernel': 'rbf', 'l2_beta': 0.001},\n",
              "  {'gamma': 0.1, 'kernel': 'rbf', 'l2_beta': 0.01},\n",
              "  {'gamma': 1, 'kernel': 'linear', 'l2_beta': 0.0001},\n",
              "  {'gamma': 1, 'kernel': 'linear', 'l2_beta': 0.001},\n",
              "  {'gamma': 1, 'kernel': 'linear', 'l2_beta': 0.01},\n",
              "  {'gamma': 1, 'kernel': 'rbf', 'l2_beta': 0.0001},\n",
              "  {'gamma': 1, 'kernel': 'rbf', 'l2_beta': 0.001},\n",
              "  {'gamma': 1, 'kernel': 'rbf', 'l2_beta': 0.01}],\n",
              " 'rank_test_score': array([16, 13,  7, 10,  4,  1, 16, 13,  7,  6, 12, 11, 16, 13,  7,  5,  3,\n",
              "         2], dtype=int32),\n",
              " 'split0_test_score': array([-0.03445961, -0.03121504, -0.00995748, -0.00089505, -0.04777355,\n",
              "        -0.        , -0.03445961, -0.03121504, -0.00995748, -0.01465652,\n",
              "        -0.01778921, -0.01331394, -0.03445961, -0.03121504, -0.00995748,\n",
              "        -0.00391586, -0.01588722, -0.00100694]),\n",
              " 'split1_test_score': array([-0.10526316, -0.10526316, -0.0752924 , -0.08114035, -0.04897661,\n",
              "        -0.        , -0.10526316, -0.10526316, -0.0752924 , -0.06725146,\n",
              "        -0.10087719, -0.09502924, -0.10526316, -0.10526316, -0.0752924 ,\n",
              "        -0.07017544, -0.05116959, -0.06725146]),\n",
              " 'split2_test_score': array([-0.03968254, -0.01269841, -0.0015873 , -0.01269841, -0.01111111,\n",
              "        -0.        , -0.03968254, -0.01269841, -0.0015873 , -0.02222222,\n",
              "        -0.00952381, -0.00634921, -0.03968254, -0.01269841, -0.0015873 ,\n",
              "        -0.01746032, -0.01904762, -0.00793651]),\n",
              " 'split3_test_score': array([-0.09078309, -0.09078309, -0.09078309, -0.09078309, -0.00519751,\n",
              "        -0.        , -0.09078309, -0.09078309, -0.09078309, -0.03638254,\n",
              "        -0.07415107, -0.07484407, -0.09078309, -0.09078309, -0.09078309,\n",
              "        -0.02286902, -0.02286902, -0.00658351]),\n",
              " 'std_fit_time': array([1.72796134, 1.85702551, 2.18281462, 0.59426558, 1.03367403,\n",
              "        0.29995824, 1.74514889, 1.89464932, 2.14938108, 0.09395375,\n",
              "        0.09100444, 0.10463038, 1.76042852, 1.90844611, 2.1779064 ,\n",
              "        3.97228253, 0.11080303, 0.043323  ]),\n",
              " 'std_score_time': array([1.02168481e-04, 2.67910778e-05, 1.86065502e-03, 2.97133572e-04,\n",
              "        1.39622591e-03, 2.30884127e-03, 2.02519139e-03, 4.97052707e-05,\n",
              "        2.78403591e-04, 4.69535840e-03, 3.81456814e-04, 4.42369382e-03,\n",
              "        6.52475687e-05, 2.14755210e-03, 1.46758062e-04, 3.81128601e-03,\n",
              "        1.47621574e-04, 2.93018482e-03]),\n",
              " 'std_test_score': array([0.03095815, 0.0389306 , 0.03913101, 0.03994761, 0.02022325,\n",
              "        0.        , 0.03095815, 0.0389306 , 0.03913101, 0.02011921,\n",
              "        0.03823039, 0.03830388, 0.03095815, 0.0389306 , 0.03913101,\n",
              "        0.02497379, 0.01403328, 0.0270048 ])}"
            ]
          },
          "metadata": {
            "tags": []
          },
          "execution_count": 24
        }
      ]
    },
    {
      "cell_type": "markdown",
      "metadata": {
        "id": "C9EvRFzS81Xr"
      },
      "source": [
        "### Balanced Dataset"
      ]
    },
    {
      "cell_type": "code",
      "metadata": {
        "id": "oZbNL_aj81Xs",
        "colab": {
          "base_uri": "https://localhost:8080/"
        },
        "outputId": "372b8706-6f66-4a56-ee09-6735a5638eb7"
      },
      "source": [
        "grid_search_4_model = BaselineModel()\n",
        "\n",
        "beta_params = [0.0001, 0.001, 0.01] # For Linear Kernel\n",
        "gamma_params = [0.01, 0.1, 1] # For RBF Kernel\n",
        "kernel_params = ['linear','rbf']\n",
        "cv_params = {'l2_beta': beta_params,'gamma': gamma_params,'kernel':kernel_params}\n",
        "\n",
        "x_data, y_data, s_data = build_adult_data(balanced_dataset,sens_attribute,load_data_size=None)\n",
        "x_train, x_test, y_train, y_test, s_train, s_test = train_test_split(x_data, y_data, s_data, train_size=1200, shuffle=True)\n",
        "\n",
        "grid_ddp_balanced = GridSearchCV(grid_search_4_model,cv_params, cv=size, n_jobs=1, scoring=DDP_scorer)\n",
        "grid_ddp_balanced.fit(x_train, y_train, s_train = s_train)"
      ],
      "execution_count": 25,
      "outputs": [
        {
          "output_type": "execute_result",
          "data": {
            "text/plain": [
              "GridSearchCV(cv=4, error_score=nan,\n",
              "             estimator=BaselineModel(gamma=0.1, kernel='linear', l2_beta=0.001,\n",
              "                                     lambda_max=1, loss_name='hinge',\n",
              "                                     max_iter=3000, reason_points=0.5,\n",
              "                                     solver='SCS', verbose=False),\n",
              "             iid='deprecated', n_jobs=1,\n",
              "             param_grid={'gamma': [0.01, 0.1, 1], 'kernel': ['linear', 'rbf'],\n",
              "                         'l2_beta': [0.0001, 0.001, 0.01]},\n",
              "             pre_dispatch='2*n_jobs', refit=True, return_train_score=False,\n",
              "             scoring=make_scorer(DDP_Grid_Scoring, greater_is_better=False, sens_attr=[-1  1  1 ...  1  1 -1], size=4),\n",
              "             verbose=0)"
            ]
          },
          "metadata": {
            "tags": []
          },
          "execution_count": 25
        }
      ]
    },
    {
      "cell_type": "code",
      "metadata": {
        "id": "SJ6Aef7v81Xs",
        "colab": {
          "base_uri": "https://localhost:8080/"
        },
        "outputId": "3228f618-65ad-45e1-cfbb-b3ef14db50c2"
      },
      "source": [
        "grid_ddp_balanced.cv_results_"
      ],
      "execution_count": 26,
      "outputs": [
        {
          "output_type": "execute_result",
          "data": {
            "text/plain": [
              "{'mean_fit_time': array([1.26989788, 1.183608  , 1.16977447, 3.50820816, 2.3081789 ,\n",
              "        1.51904559, 1.21850479, 1.18183589, 1.20453262, 2.26028287,\n",
              "        1.27595901, 1.59541029, 1.22838646, 1.17255813, 1.17086971,\n",
              "        2.72882837, 1.12733746, 1.17926806]),\n",
              " 'mean_score_time': array([0.0066185 , 0.0042212 , 0.00517392, 0.00894862, 0.00885636,\n",
              "        0.00892937, 0.00433064, 0.0045476 , 0.00570983, 0.01269633,\n",
              "        0.01414382, 0.01132411, 0.00454259, 0.00480527, 0.00471401,\n",
              "        0.00896841, 0.01169652, 0.01162612]),\n",
              " 'mean_test_score': array([-0.04277448, -0.03056034, -0.0366241 , -0.0421681 , -0.03315909,\n",
              "        -0.0370029 , -0.04277448, -0.03056034, -0.0366241 , -0.0638282 ,\n",
              "        -0.04414838, -0.0421681 , -0.04277448, -0.03056034, -0.0366241 ,\n",
              "        -0.04092351, -0.03365023, -0.04343507]),\n",
              " 'param_gamma': masked_array(data=[0.01, 0.01, 0.01, 0.01, 0.01, 0.01, 0.1, 0.1, 0.1, 0.1,\n",
              "                    0.1, 0.1, 1, 1, 1, 1, 1, 1],\n",
              "              mask=[False, False, False, False, False, False, False, False,\n",
              "                    False, False, False, False, False, False, False, False,\n",
              "                    False, False],\n",
              "        fill_value='?',\n",
              "             dtype=object),\n",
              " 'param_kernel': masked_array(data=['linear', 'linear', 'linear', 'rbf', 'rbf', 'rbf',\n",
              "                    'linear', 'linear', 'linear', 'rbf', 'rbf', 'rbf',\n",
              "                    'linear', 'linear', 'linear', 'rbf', 'rbf', 'rbf'],\n",
              "              mask=[False, False, False, False, False, False, False, False,\n",
              "                    False, False, False, False, False, False, False, False,\n",
              "                    False, False],\n",
              "        fill_value='?',\n",
              "             dtype=object),\n",
              " 'param_l2_beta': masked_array(data=[0.0001, 0.001, 0.01, 0.0001, 0.001, 0.01, 0.0001,\n",
              "                    0.001, 0.01, 0.0001, 0.001, 0.01, 0.0001, 0.001, 0.01,\n",
              "                    0.0001, 0.001, 0.01],\n",
              "              mask=[False, False, False, False, False, False, False, False,\n",
              "                    False, False, False, False, False, False, False, False,\n",
              "                    False, False],\n",
              "        fill_value='?',\n",
              "             dtype=object),\n",
              " 'params': [{'gamma': 0.01, 'kernel': 'linear', 'l2_beta': 0.0001},\n",
              "  {'gamma': 0.01, 'kernel': 'linear', 'l2_beta': 0.001},\n",
              "  {'gamma': 0.01, 'kernel': 'linear', 'l2_beta': 0.01},\n",
              "  {'gamma': 0.01, 'kernel': 'rbf', 'l2_beta': 0.0001},\n",
              "  {'gamma': 0.01, 'kernel': 'rbf', 'l2_beta': 0.001},\n",
              "  {'gamma': 0.01, 'kernel': 'rbf', 'l2_beta': 0.01},\n",
              "  {'gamma': 0.1, 'kernel': 'linear', 'l2_beta': 0.0001},\n",
              "  {'gamma': 0.1, 'kernel': 'linear', 'l2_beta': 0.001},\n",
              "  {'gamma': 0.1, 'kernel': 'linear', 'l2_beta': 0.01},\n",
              "  {'gamma': 0.1, 'kernel': 'rbf', 'l2_beta': 0.0001},\n",
              "  {'gamma': 0.1, 'kernel': 'rbf', 'l2_beta': 0.001},\n",
              "  {'gamma': 0.1, 'kernel': 'rbf', 'l2_beta': 0.01},\n",
              "  {'gamma': 1, 'kernel': 'linear', 'l2_beta': 0.0001},\n",
              "  {'gamma': 1, 'kernel': 'linear', 'l2_beta': 0.001},\n",
              "  {'gamma': 1, 'kernel': 'linear', 'l2_beta': 0.01},\n",
              "  {'gamma': 1, 'kernel': 'rbf', 'l2_beta': 0.0001},\n",
              "  {'gamma': 1, 'kernel': 'rbf', 'l2_beta': 0.001},\n",
              "  {'gamma': 1, 'kernel': 'rbf', 'l2_beta': 0.01}],\n",
              " 'rank_test_score': array([13,  1,  6, 11,  4,  9, 13,  1,  6, 18, 17, 11, 13,  1,  6, 10,  5,\n",
              "        16], dtype=int32),\n",
              " 'split0_test_score': array([-0.03334079, -0.03334079, -0.03334079, -0.03334079, -0.03334079,\n",
              "        -0.02562094, -0.03334079, -0.03334079, -0.03334079, -0.03927053,\n",
              "        -0.03155068, -0.03334079, -0.03334079, -0.03334079, -0.03334079,\n",
              "        -0.01711792, -0.00794361, -0.02920116]),\n",
              " 'split1_test_score': array([-0.05774854, -0.05774854, -0.05774854, -0.05774854, -0.05774854,\n",
              "        -0.08552632, -0.05774854, -0.05774854, -0.05774854, -0.07163743,\n",
              "        -0.04605263, -0.05774854, -0.05774854, -0.05774854, -0.05774854,\n",
              "        -0.08114035, -0.08114035, -0.09356725]),\n",
              " 'split2_test_score': array([-0.00793651, -0.00793651, -0.00793651, -0.00793651, -0.00793651,\n",
              "        -0.01746032, -0.00793651, -0.00793651, -0.00793651, -0.05396825,\n",
              "        -0.04285714, -0.00793651, -0.00793651, -0.00793651, -0.00793651,\n",
              "        -0.04603175, -0.03650794, -0.04126984]),\n",
              " 'split3_test_score': array([-0.07207207, -0.02321552, -0.04747055, -0.06964657, -0.03361053,\n",
              "        -0.01940402, -0.07207207, -0.02321552, -0.04747055, -0.09043659,\n",
              "        -0.05613306, -0.06964657, -0.07207207, -0.02321552, -0.04747055,\n",
              "        -0.01940402, -0.00900901, -0.00970201]),\n",
              " 'std_fit_time': array([0.20322579, 0.23080337, 0.21499629, 0.51255162, 0.45708606,\n",
              "        0.06281296, 0.21182932, 0.27541445, 0.23794495, 0.23047262,\n",
              "        0.07107508, 0.23178347, 0.19686871, 0.23937665, 0.22773894,\n",
              "        0.36531295, 0.04883223, 0.03535101]),\n",
              " 'std_score_time': array([2.32659789e-03, 2.56396985e-05, 1.21803125e-03, 1.28358502e-04,\n",
              "        7.20401720e-05, 7.29641684e-05, 1.23902789e-04, 3.37084455e-04,\n",
              "        1.86022938e-03, 3.63911818e-03, 5.25522941e-03, 3.77692853e-03,\n",
              "        3.39376516e-04, 6.23937239e-04, 3.45529766e-04, 1.24812567e-04,\n",
              "        3.65997949e-03, 4.20792153e-03]),\n",
              " 'std_test_score': array([0.02441951, 0.01811569, 0.01869255, 0.02370411, 0.01761432,\n",
              "        0.02817669, 0.02441951, 0.01811569, 0.01869255, 0.01916565,\n",
              "        0.00876966, 0.02370411, 0.02441951, 0.01811569, 0.01869255,\n",
              "        0.0258519 , 0.0297132 , 0.0310582 ])}"
            ]
          },
          "metadata": {
            "tags": []
          },
          "execution_count": 26
        }
      ]
    },
    {
      "cell_type": "code",
      "metadata": {
        "id": "GJmbxnJOAE6i"
      },
      "source": [
        ""
      ],
      "execution_count": null,
      "outputs": []
    }
  ]
}