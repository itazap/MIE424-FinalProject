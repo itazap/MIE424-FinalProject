{
 "cells": [
  {
   "cell_type": "code",
   "execution_count": 29,
   "metadata": {},
   "outputs": [],
   "source": [
    "from src.SearchFair import *\n",
    "from src.TestProcedure import *\n",
    "from src.AdultData import build_adult_data, normalize\n",
    "\n",
    "from sklearn.model_selection import train_test_split\n",
    "from sklearn.model_selection import GridSearchCV\n",
    "import numpy as np"
   ]
  },
  {
   "cell_type": "code",
   "execution_count": 4,
   "metadata": {},
   "outputs": [
    {
     "name": "stdout",
     "output_type": "stream",
     "text": [
      "fatal: destination path 'SearchFair' already exists and is not an empty directory.\n",
      "/Users/Chris/Documents/School/Current/MIE424/MIE424-FinalProject/SearchFair\n"
     ]
    }
   ],
   "source": [
    "!git clone https://github.com/mlohaus/SearchFair.git\n",
    "%cd SearchFair"
   ]
  },
  {
   "cell_type": "markdown",
   "metadata": {},
   "source": [
    "#### Load Unbalanced (Raw) Dataset"
   ]
  },
  {
   "cell_type": "code",
   "execution_count": null,
   "metadata": {},
   "outputs": [],
   "source": [
    "# Load data into pandas DataFrame\n",
    "unbalanced_dataset = pd.read_csv('data/adult/adult.csv')\n",
    "\n",
    "# Drop fnlwgt, education, education-num, capital-gain, capital-loss as Lohaus et al do\n",
    "unbalanced_dataset = unbalanced_dataset.drop(columns=['fnlwgt', 'education', 'capital-gain', 'capital-loss'])"
   ]
  },
  {
   "cell_type": "markdown",
   "metadata": {},
   "source": [
    "#### Load Balanced (Fixed) Dataset"
   ]
  },
  {
   "cell_type": "code",
   "execution_count": null,
   "metadata": {},
   "outputs": [],
   "source": [
    "# Load data into pandas DataFrame\n",
    "dataset = pd.read_csv('data/adult/adult.csv')\n",
    "data50minus = dataset[dataset[\"income\"].str.contains(\"<=50K\")].iloc[:11687]\n",
    "data50plus = dataset[dataset[\"income\"].str.contains(\">50K\")].iloc[:11687]\n",
    "databalanced = pd.concat([data50minus, data50plus])\n",
    "balanced_datset = databalanced.sample(frac=1).reset_index(drop=True)\n",
    "# Drop fnlwgt, education, education-num, capital-gain, capital-loss as Lohaus et al do\n",
    "balanced_datset = balanced_datset.drop(columns=['fnlwgt', 'education', 'capital-gain', 'capital-loss'])"
   ]
  },
  {
   "cell_type": "markdown",
   "metadata": {},
   "source": [
    "## SearchFair Results on Unbalanced Dataset"
   ]
  },
  {
   "cell_type": "markdown",
   "metadata": {},
   "source": [
    "### Fairness Metric = 'DDP'\n",
    "#### Kernel = 'Linear'"
   ]
  },
  {
   "cell_type": "code",
   "execution_count": 9,
   "metadata": {},
   "outputs": [],
   "source": [
    "fairness_notion = 'DDP'  \n",
    "kernel = 'linear' \n",
    "verbose = False"
   ]
  },
  {
   "cell_type": "markdown",
   "metadata": {},
   "source": [
    "##### Sensitive Attribute = 'Sex'"
   ]
  },
  {
   "cell_type": "code",
   "execution_count": null,
   "metadata": {},
   "outputs": [],
   "source": [
    "SearchFair_Sex_DDP_LinearKernel_Hinge = SearchFair(kernel=kernel, fairness_notion=fairness_notion, verbose=verbose)\n",
    "SearchFair_1_tester = TestProcedure(SearchFair_Sex_DDP_LinearKernel_Hinge)\n",
    "SearchFair_1_tester_results = SearchFair_1_tester.RunTest(dataset=unbalanced_dataset,sens_attribute='sex')"
   ]
  },
  {
   "cell_type": "markdown",
   "metadata": {},
   "source": [
    "##### Sensitive Attribute = 'Race'"
   ]
  },
  {
   "cell_type": "code",
   "execution_count": null,
   "metadata": {},
   "outputs": [],
   "source": [
    "SearchFair_Race_DDP_LinearKernel_Hinge = SearchFair(kernel=kernel, fairness_notion=fairness_notion, verbose=verbose)\n",
    "SearchFair_2_tester = TestProcedure(SearchFair_Race_DDP_LinearKernel_Hinge)\n",
    "SearchFair_2_tester_results = SearchFair_2_tester.RunTest(dataset=unbalanced_dataset,sens_attribute='race')"
   ]
  },
  {
   "cell_type": "markdown",
   "metadata": {},
   "source": [
    "#### Kernel = 'rbf'"
   ]
  },
  {
   "cell_type": "code",
   "execution_count": 16,
   "metadata": {},
   "outputs": [],
   "source": [
    "fairness_notion = 'DDP'  \n",
    "kernel = 'rbf' \n",
    "verbose = False"
   ]
  },
  {
   "cell_type": "markdown",
   "metadata": {},
   "source": [
    "##### Sensitive Attribute = 'Sex'"
   ]
  },
  {
   "cell_type": "code",
   "execution_count": null,
   "metadata": {},
   "outputs": [],
   "source": [
    "SearchFair_Sex_DDP_RBFKernel_Hinge = SearchFair(kernel=kernel, fairness_notion=fairness_notion, verbose=verbose)\n",
    "SearchFair_3_tester = TestProcedure(SearchFair_Sex_DDP_RBFKernel_Hinge)\n",
    "SearchFair_3_tester_results = SearchFair_3_tester.RunTest(dataset=unbalanced_dataset,sens_attribute='sex')"
   ]
  },
  {
   "cell_type": "markdown",
   "metadata": {},
   "source": [
    "##### Sensitive Attribute = 'Race'"
   ]
  },
  {
   "cell_type": "code",
   "execution_count": null,
   "metadata": {},
   "outputs": [],
   "source": [
    "SearchFair_Race_DDP_RBFKernel_Hinge = SearchFair(kernel=kernel, fairness_notion=fairness_notion, verbose=verbose)\n",
    "SearchFair_4_tester = TestProcedure(SearchFair_Sex_DDP_RBFKernel_Hinge)\n",
    "SearchFair_4_tester_results = SearchFair_4_tester.RunTest(dataset=unbalanced_dataset,sens_attribute='race')"
   ]
  },
  {
   "cell_type": "markdown",
   "metadata": {},
   "source": [
    "### Fairness Metric = 'DEO'\n",
    "#### Kernel = 'Linear'"
   ]
  },
  {
   "cell_type": "code",
   "execution_count": null,
   "metadata": {},
   "outputs": [],
   "source": [
    "fairness_notion = 'DEO'  \n",
    "kernel = 'linear' \n",
    "verbose = False"
   ]
  },
  {
   "cell_type": "markdown",
   "metadata": {},
   "source": [
    "##### Sensitive Attribute = 'Sex'"
   ]
  },
  {
   "cell_type": "code",
   "execution_count": null,
   "metadata": {},
   "outputs": [],
   "source": [
    "SearchFair_Sex_DEO_LinearKernel_Hinge = SearchFair(kernel=kernel, fairness_notion=fairness_notion, verbose=verbose)\n",
    "SearchFair_5_tester = TestProcedure(SearchFair_Sex_DEO_LinearKernel_Hinge)\n",
    "SearchFair_5_tester_results = SearchFair_5_tester.RunTest(dataset=unbalanced_dataset,sens_attribute='sex')"
   ]
  },
  {
   "cell_type": "markdown",
   "metadata": {},
   "source": [
    "##### Sensitive Attribute = 'Race'"
   ]
  },
  {
   "cell_type": "code",
   "execution_count": null,
   "metadata": {},
   "outputs": [],
   "source": [
    "SearchFair_Race_DEO_LinearKernel_Hinge = SearchFair(kernel=kernel, fairness_notion=fairness_notion, verbose=verbose)\n",
    "SearchFair_6_tester = TestProcedure(SearchFair_Race_DEO_LinearKernel_Hinge)\n",
    "SearchFair_6_tester_results = SearchFair_6_tester.RunTest(dataset=unbalanced_dataset,sens_attribute='race')"
   ]
  },
  {
   "cell_type": "markdown",
   "metadata": {},
   "source": [
    "#### Kernel = 'rbf'"
   ]
  },
  {
   "cell_type": "code",
   "execution_count": 17,
   "metadata": {},
   "outputs": [],
   "source": [
    "fairness_notion = 'DEO'  \n",
    "kernel = 'rbf' \n",
    "verbose = False"
   ]
  },
  {
   "cell_type": "markdown",
   "metadata": {},
   "source": [
    "##### Sensitive Attribute = 'Sex'"
   ]
  },
  {
   "cell_type": "code",
   "execution_count": null,
   "metadata": {},
   "outputs": [],
   "source": [
    "SearchFair_Sex_DEO_RBFKernel_Hinge = SearchFair(kernel=kernel, fairness_notion=fairness_notion, verbose=verbose)\n",
    "SearchFair_7_tester = TestProcedure(SearchFair_Sex_DEO_RBFKernel_Hinge)\n",
    "SearchFair_7_tester_results = SearchFair_7_tester.RunTest(dataset=unbalanced_dataset,sens_attribute='sex')"
   ]
  },
  {
   "cell_type": "markdown",
   "metadata": {},
   "source": [
    "##### Sensitive Attribute = 'Race'"
   ]
  },
  {
   "cell_type": "code",
   "execution_count": null,
   "metadata": {},
   "outputs": [],
   "source": [
    "SearchFair_Race_DEO_RBFKernel_Hinge = SearchFair(kernel=kernel, fairness_notion=fairness_notion, verbose=verbose)\n",
    "SearchFair_8_tester = TestProcedure(SearchFair_Sex_DEO_RBFKernel_Hinge)\n",
    "SearchFair_8_tester_results = SearchFair_8_tester.RunTest(dataset=unbalanced_dataset,sens_attribute='race')"
   ]
  },
  {
   "cell_type": "markdown",
   "metadata": {},
   "source": [
    "## SearchFair Results on Balanced Dataset"
   ]
  },
  {
   "cell_type": "markdown",
   "metadata": {},
   "source": [
    "### Fairness Metric = 'DDP'\n",
    "#### Kernel = 'Linear'"
   ]
  },
  {
   "cell_type": "code",
   "execution_count": 26,
   "metadata": {},
   "outputs": [],
   "source": [
    "fairness_notion = 'DDP'  \n",
    "kernel = 'linear' \n",
    "verbose = False"
   ]
  },
  {
   "cell_type": "markdown",
   "metadata": {},
   "source": [
    "##### Sensitive Attribute = 'Sex'"
   ]
  },
  {
   "cell_type": "code",
   "execution_count": null,
   "metadata": {},
   "outputs": [],
   "source": [
    "SearchFair_Sex_DDP_LinearKernel_Hinge = SearchFair(kernel=kernel, fairness_notion=fairness_notion, verbose=verbose)\n",
    "SearchFair_9_tester = TestProcedure(SearchFair_Sex_DDP_LinearKernel_Hinge)\n",
    "SearchFair_9_tester_results = SearchFair_9_tester.RunTest(dataset=balanced_dataset,sens_attribute='sex')"
   ]
  },
  {
   "cell_type": "markdown",
   "metadata": {},
   "source": [
    "##### Sensitive Attribute = 'Race'"
   ]
  },
  {
   "cell_type": "code",
   "execution_count": null,
   "metadata": {},
   "outputs": [],
   "source": [
    "SearchFair_Race_DDP_LinearKernel_Hinge = SearchFair(kernel=kernel, fairness_notion=fairness_notion, verbose=verbose)\n",
    "SearchFair_10_tester = TestProcedure(SearchFair_Race_DDP_LinearKernel_Hinge)\n",
    "SearchFair_10_tester_results = SearchFair_10_tester.RunTest(dataset=balanced_dataset,sens_attribute='race')"
   ]
  },
  {
   "cell_type": "markdown",
   "metadata": {},
   "source": [
    "#### Kernel = 'rbf'"
   ]
  },
  {
   "cell_type": "code",
   "execution_count": 27,
   "metadata": {},
   "outputs": [],
   "source": [
    "fairness_notion = 'DDP'  \n",
    "kernel = 'rbf' \n",
    "verbose = False"
   ]
  },
  {
   "cell_type": "markdown",
   "metadata": {},
   "source": [
    "##### Sensitive Attribute = 'Sex'"
   ]
  },
  {
   "cell_type": "code",
   "execution_count": null,
   "metadata": {},
   "outputs": [],
   "source": [
    "SearchFair_Sex_DDP_RBFKernel_Hinge = SearchFair(kernel=kernel, fairness_notion=fairness_notion, verbose=verbose)\n",
    "SearchFair_11_tester = TestProcedure(SearchFair_Sex_DDP_RBFKernel_Hinge)\n",
    "SearchFair_11_tester_results = SearchFair_11_tester.RunTest(dataset=balanced_dataset,sens_attribute='sex')"
   ]
  },
  {
   "cell_type": "markdown",
   "metadata": {},
   "source": [
    "##### Sensitive Attribute = 'Race'"
   ]
  },
  {
   "cell_type": "code",
   "execution_count": null,
   "metadata": {},
   "outputs": [],
   "source": [
    "SearchFair_Race_DDP_RBFKernel_Hinge = SearchFair(kernel=kernel, fairness_notion=fairness_notion, verbose=verbose)\n",
    "SearchFair_12_tester = TestProcedure(SearchFair_Sex_DDP_RBFKernel_Hinge)\n",
    "SearchFair_12_tester_results = SearchFair_12_tester.RunTest(dataset=balanced_dataset,sens_attribute='race')"
   ]
  },
  {
   "cell_type": "markdown",
   "metadata": {},
   "source": [
    "### Fairness Metric = 'DEO'\n",
    "#### Kernel = 'Linear'"
   ]
  },
  {
   "cell_type": "code",
   "execution_count": null,
   "metadata": {},
   "outputs": [],
   "source": [
    "fairness_notion = 'DEO'  \n",
    "kernel = 'linear' \n",
    "verbose = False"
   ]
  },
  {
   "cell_type": "markdown",
   "metadata": {},
   "source": [
    "##### Sensitive Attribute = 'Sex'"
   ]
  },
  {
   "cell_type": "code",
   "execution_count": null,
   "metadata": {},
   "outputs": [],
   "source": [
    "SearchFair_Sex_DEO_LinearKernel_Hinge = SearchFair(kernel=kernel, fairness_notion=fairness_notion, verbose=verbose)\n",
    "SearchFair_13_tester = TestProcedure(SearchFair_Sex_DEO_LinearKernel_Hinge)\n",
    "SearchFair_13_tester_results = SearchFair_13_tester.RunTest(dataset=balanced_dataset,sens_attribute='sex')"
   ]
  },
  {
   "cell_type": "markdown",
   "metadata": {},
   "source": [
    "##### Sensitive Attribute = 'Race'"
   ]
  },
  {
   "cell_type": "code",
   "execution_count": null,
   "metadata": {},
   "outputs": [],
   "source": [
    "SearchFair_Race_DEO_LinearKernel_Hinge = SearchFair(kernel=kernel, fairness_notion=fairness_notion, verbose=verbose)\n",
    "SearchFair_14_tester = TestProcedure(SearchFair_Race_DEO_LinearKernel_Hinge)\n",
    "SearchFair_14_tester_results = SearchFair_14_tester.RunTest(dataset=balanced_dataset,sens_attribute='race')"
   ]
  },
  {
   "cell_type": "markdown",
   "metadata": {},
   "source": [
    "#### Kernel = 'rbf'"
   ]
  },
  {
   "cell_type": "code",
   "execution_count": null,
   "metadata": {},
   "outputs": [],
   "source": [
    "fairness_notion = 'DDP'  \n",
    "kernel = 'rbf' \n",
    "verbose = False"
   ]
  },
  {
   "cell_type": "markdown",
   "metadata": {},
   "source": [
    "##### Sensitive Attribute = 'Sex'"
   ]
  },
  {
   "cell_type": "code",
   "execution_count": null,
   "metadata": {},
   "outputs": [],
   "source": [
    "SearchFair_Sex_DEO_RBFKernel_Hinge = SearchFair(kernel=kernel, fairness_notion=fairness_notion, verbose=verbose)\n",
    "SearchFair_15_tester = TestProcedure(SearchFair_Sex_DEO_RBFKernel_Hinge)\n",
    "SearchFair_15_tester_results = SearchFair_15_tester.RunTest(dataset=balanced_dataset,sens_attribute='sex')"
   ]
  },
  {
   "cell_type": "markdown",
   "metadata": {},
   "source": [
    "##### Sensitive Attribute = 'Race'"
   ]
  },
  {
   "cell_type": "code",
   "execution_count": null,
   "metadata": {},
   "outputs": [],
   "source": [
    "SearchFair_Race_DEO_RBFKernel_Hinge = SearchFair(kernel=kernel, fairness_notion=fairness_notion, verbose=verbose)\n",
    "SearchFair_16_tester = TestProcedure(SearchFair_Sex_DEO_RBFKernel_Hinge)\n",
    "SearchFair_16_tester_results = SearchFair_16_tester.RunTest(dataset=balanced_dataset,sens_attribute='race')"
   ]
  },
  {
   "cell_type": "markdown",
   "metadata": {},
   "source": [
    "## SearchFair Grid Search for Accuracy \n",
    "- Fairness Notion = 'DDP'\n",
    "- Sensitive Attribute = 'Sex'\n",
    "- Kernel = 'Linear')"
   ]
  },
  {
   "cell_type": "markdown",
   "metadata": {},
   "source": [
    "### Unbalanced Dataset"
   ]
  },
  {
   "cell_type": "code",
   "execution_count": 30,
   "metadata": {},
   "outputs": [
    {
     "ename": "NameError",
     "evalue": "name 'unbalanced_dataset' is not defined",
     "output_type": "error",
     "traceback": [
      "\u001b[0;31m---------------------------------------------------------------------------\u001b[0m",
      "\u001b[0;31mNameError\u001b[0m                                 Traceback (most recent call last)",
      "\u001b[0;32m<ipython-input-30-6d4def8e1b42>\u001b[0m in \u001b[0;36m<module>\u001b[0;34m\u001b[0m\n\u001b[1;32m      1\u001b[0m \u001b[0;31m# Load Data\u001b[0m\u001b[0;34m\u001b[0m\u001b[0;34m\u001b[0m\u001b[0;34m\u001b[0m\u001b[0m\n\u001b[0;32m----> 2\u001b[0;31m \u001b[0mx_data\u001b[0m\u001b[0;34m,\u001b[0m \u001b[0my_data\u001b[0m\u001b[0;34m,\u001b[0m \u001b[0ms_data\u001b[0m \u001b[0;34m=\u001b[0m \u001b[0mbuild_adult_data\u001b[0m\u001b[0;34m(\u001b[0m\u001b[0mdataset\u001b[0m \u001b[0;34m=\u001b[0m \u001b[0munbalanced_dataset\u001b[0m\u001b[0;34m,\u001b[0m\u001b[0msens_attribute\u001b[0m\u001b[0;34m=\u001b[0m\u001b[0;34m'race'\u001b[0m\u001b[0;34m,\u001b[0m\u001b[0mload_data_size\u001b[0m\u001b[0;34m=\u001b[0m\u001b[0;32mNone\u001b[0m\u001b[0;34m)\u001b[0m\u001b[0;34m\u001b[0m\u001b[0;34m\u001b[0m\u001b[0m\n\u001b[0m\u001b[1;32m      3\u001b[0m \u001b[0;31m# Train Test split. Here, we choose a small number to reduce running time.\u001b[0m\u001b[0;34m\u001b[0m\u001b[0;34m\u001b[0m\u001b[0;34m\u001b[0m\u001b[0m\n\u001b[1;32m      4\u001b[0m \u001b[0mtrain_size\u001b[0m \u001b[0;34m=\u001b[0m \u001b[0;36m1200\u001b[0m\u001b[0;34m\u001b[0m\u001b[0;34m\u001b[0m\u001b[0m\n\u001b[1;32m      5\u001b[0m \u001b[0mx_train\u001b[0m\u001b[0;34m,\u001b[0m \u001b[0mx_test\u001b[0m\u001b[0;34m,\u001b[0m \u001b[0my_train\u001b[0m\u001b[0;34m,\u001b[0m \u001b[0my_test\u001b[0m\u001b[0;34m,\u001b[0m \u001b[0ms_train\u001b[0m\u001b[0;34m,\u001b[0m \u001b[0ms_test\u001b[0m \u001b[0;34m=\u001b[0m \u001b[0mtrain_test_split\u001b[0m\u001b[0;34m(\u001b[0m\u001b[0mx_data\u001b[0m\u001b[0;34m,\u001b[0m \u001b[0my_data\u001b[0m\u001b[0;34m,\u001b[0m \u001b[0ms_data\u001b[0m\u001b[0;34m,\u001b[0m \u001b[0mtrain_size\u001b[0m\u001b[0;34m=\u001b[0m\u001b[0mtrain_size\u001b[0m\u001b[0;34m,\u001b[0m \u001b[0mshuffle\u001b[0m\u001b[0;34m=\u001b[0m\u001b[0;32mTrue\u001b[0m\u001b[0;34m)\u001b[0m\u001b[0;34m\u001b[0m\u001b[0;34m\u001b[0m\u001b[0m\n",
      "\u001b[0;31mNameError\u001b[0m: name 'unbalanced_dataset' is not defined"
     ]
    }
   ],
   "source": [
    "# Load Data\n",
    "x_data, y_data, s_data = build_adult_data(dataset = unbalanced_dataset,sens_attribute='race',load_data_size=None)\n",
    "# Train Test split. Here, we choose a small number to reduce running time.\n",
    "train_size = 1200\n",
    "x_train, x_test, y_train, y_test, s_train, s_test = train_test_split(x_data, y_data, s_data, train_size=train_size, shuffle=True)"
   ]
  },
  {
   "cell_type": "code",
   "execution_count": null,
   "metadata": {},
   "outputs": [],
   "source": [
    "fairness_notion = 'DDP' # DDP = Demographic Parity, DEO = Equality of Opportunity. \n",
    "kernel = 'linear' # 'linear', 'rbf'\n",
    "verbose = False\n",
    "\n",
    "unbalanced_adult_searchfair = SearchFair(kernel=kernel, fairness_notion=fairness_notion, verbose=verbose)\n",
    "\n",
    "# regularization parameter beta\n",
    "beta_params = [0.0001, 0.001, 0.01]\n",
    "cv_params = {'reg_beta': beta_params}\n",
    "\n",
    "grid_searchfair_DDP_sex_linear_1 = GridSearchCV(unbalanced_adult_searchfair,cv_params, cv=3, verbose=1, n_jobs=1, scoring='accuracy')\n",
    "grid_searchfair_DDP_sex_linear_1.fit(x_train, y_train, s_train=s_train)"
   ]
  },
  {
   "cell_type": "code",
   "execution_count": null,
   "metadata": {},
   "outputs": [],
   "source": [
    "grid_searchfair_DDP_sex_linear_1.cv_results_"
   ]
  },
  {
   "cell_type": "markdown",
   "metadata": {},
   "source": [
    "### Balanced Dataset"
   ]
  },
  {
   "cell_type": "code",
   "execution_count": null,
   "metadata": {},
   "outputs": [],
   "source": [
    "fairness_notion = 'DDP' # DDP = Demographic Parity, DEO = Equality of Opportunity. \n",
    "kernel = 'linear' # 'linear', 'rbf'\n",
    "verbose = False\n",
    "\n",
    "unbalanced_adult_searchfair = SearchFair(kernel=kernel, fairness_notion=fairness_notion, verbose=verbose)\n",
    "\n",
    "# regularization parameter beta\n",
    "beta_params = [0.0001, 0.001, 0.01]\n",
    "cv_params = {'reg_beta': beta_params}\n",
    "\n",
    "grid_searchfair_DDP_sex_linear_2 = GridSearchCV(balanced_adult_searchfair,cv_params, cv=3, verbose=1, n_jobs=1, scoring='accuracy')\n",
    "grid_searchfair_DDP_sex_linear_2.fit(x_train, y_train, s_train=s_train)"
   ]
  },
  {
   "cell_type": "code",
   "execution_count": null,
   "metadata": {},
   "outputs": [],
   "source": [
    "grid_searchfair_DDP_sex_linear_2.cv_results_"
   ]
  }
 ],
 "metadata": {
  "kernelspec": {
   "display_name": "Python 3",
   "language": "python",
   "name": "python3"
  },
  "language_info": {
   "codemirror_mode": {
    "name": "ipython",
    "version": 3
   },
   "file_extension": ".py",
   "mimetype": "text/x-python",
   "name": "python",
   "nbconvert_exporter": "python",
   "pygments_lexer": "ipython3",
   "version": "3.7.6"
  }
 },
 "nbformat": 4,
 "nbformat_minor": 4
}
