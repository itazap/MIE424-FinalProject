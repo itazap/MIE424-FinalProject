{
  "nbformat": 4,
  "nbformat_minor": 0,
  "metadata": {
    "kernelspec": {
      "display_name": "Python 3",
      "language": "python",
      "name": "python3"
    },
    "language_info": {
      "codemirror_mode": {
        "name": "ipython",
        "version": 3
      },
      "file_extension": ".py",
      "mimetype": "text/x-python",
      "name": "python",
      "nbconvert_exporter": "python",
      "pygments_lexer": "ipython3",
      "version": "3.7.6"
    },
    "colab": {
      "name": "SearchFair Results.ipynb",
      "provenance": [],
      "toc_visible": true
    }
  },
  "cells": [
    {
      "cell_type": "code",
      "metadata": {
        "id": "mUUUONexAf5_"
      },
      "source": [
        "from src.SearchFair import *\n",
        "from src.TestProcedure import *\n",
        "from src.AdultData import build_adult_data, normalize\n",
        "\n",
        "from sklearn.model_selection import train_test_split\n",
        "from sklearn.model_selection import GridSearchCV\n",
        "import numpy as np\n",
        "import pandas as pd"
      ],
      "execution_count": 4,
      "outputs": []
    },
    {
      "cell_type": "code",
      "metadata": {
        "colab": {
          "base_uri": "https://localhost:8080/"
        },
        "id": "txaQlYXfAf6I",
        "outputId": "b5ce877d-92bd-452d-d96b-ef9f3d50f70d"
      },
      "source": [
        "!git clone https://github.com/mlohaus/SearchFair.git\n",
        "%cd SearchFair"
      ],
      "execution_count": 5,
      "outputs": [
        {
          "output_type": "stream",
          "text": [
            "Cloning into 'SearchFair'...\n",
            "remote: Enumerating objects: 86, done.\u001b[K\n",
            "remote: Counting objects: 100% (86/86), done.\u001b[K\n",
            "remote: Compressing objects: 100% (60/60), done.\u001b[K\n",
            "remote: Total 86 (delta 32), reused 74 (delta 24), pack-reused 0\u001b[K\n",
            "Unpacking objects: 100% (86/86), done.\n",
            "/content/SearchFair/SearchFair\n"
          ],
          "name": "stdout"
        }
      ]
    },
    {
      "cell_type": "markdown",
      "metadata": {
        "id": "SQGChJNoAf6K"
      },
      "source": [
        "#### Load Unbalanced (Raw) Dataset"
      ]
    },
    {
      "cell_type": "code",
      "metadata": {
        "id": "4mcrpg-1Af6K"
      },
      "source": [
        "# Load data into pandas DataFrame\n",
        "unbalanced_dataset = pd.read_csv('data/adult/adult.csv')\n",
        "\n",
        "# Drop fnlwgt, education, education-num, capital-gain, capital-loss as Lohaus et al do\n",
        "unbalanced_dataset = unbalanced_dataset.drop(columns=['fnlwgt', 'education', 'capital-gain', 'capital-loss'])"
      ],
      "execution_count": 6,
      "outputs": []
    },
    {
      "cell_type": "markdown",
      "metadata": {
        "id": "hyIJvRrvAf6L"
      },
      "source": [
        "#### Load Balanced (Fixed) Dataset"
      ]
    },
    {
      "cell_type": "code",
      "metadata": {
        "id": "-1GwVj5lAf6M"
      },
      "source": [
        "# Load data into pandas DataFrame\n",
        "dataset = pd.read_csv('data/adult/adult.csv')\n",
        "data50minus = dataset[dataset[\"income\"].str.contains(\"<=50K\")].iloc[:11687]\n",
        "data50plus = dataset[dataset[\"income\"].str.contains(\">50K\")].iloc[:11687]\n",
        "databalanced = pd.concat([data50minus, data50plus])\n",
        "balanced_dataset = databalanced.sample(frac=1).reset_index(drop=True)\n",
        "# Drop fnlwgt, education, education-num, capital-gain, capital-loss as Lohaus et al do\n",
        "balanced_dataset = balanced_dataset.drop(columns=['fnlwgt', 'education', 'capital-gain', 'capital-loss'])"
      ],
      "execution_count": 7,
      "outputs": []
    },
    {
      "cell_type": "markdown",
      "metadata": {
        "id": "tdiPtwDbAf6N"
      },
      "source": [
        "## SearchFair Results on Unbalanced Dataset"
      ]
    },
    {
      "cell_type": "markdown",
      "metadata": {
        "id": "YUMhIdsjAf6N"
      },
      "source": [
        "### Fairness Metric = 'DDP'\n",
        "#### Kernel = 'Linear'"
      ]
    },
    {
      "cell_type": "code",
      "metadata": {
        "id": "zSxtMcWtAf6N"
      },
      "source": [
        "fairness_notion = 'DDP'  \n",
        "kernel = 'linear' \n",
        "verbose = False"
      ],
      "execution_count": 8,
      "outputs": []
    },
    {
      "cell_type": "markdown",
      "metadata": {
        "id": "Qy0l2WgKAf6O"
      },
      "source": [
        "##### Sensitive Attribute = 'Sex'"
      ]
    },
    {
      "cell_type": "code",
      "metadata": {
        "colab": {
          "base_uri": "https://localhost:8080/"
        },
        "id": "eYCu76wsAf6O",
        "outputId": "911ad810-b373-4d38-e318-ae0e83c796de"
      },
      "source": [
        "SearchFair_Sex_DDP_LinearKernel_Hinge = SearchFair(kernel=kernel, fairness_notion=fairness_notion, verbose=verbose)\n",
        "SearchFair_1_tester = TestProcedure(SearchFair_Sex_DDP_LinearKernel_Hinge)\n",
        "SearchFair_1_tester_results = SearchFair_1_tester.RunTest(dataset=unbalanced_dataset,sens_attribute='sex')"
      ],
      "execution_count": 9,
      "outputs": [
        {
          "output_type": "stream",
          "text": [
            "Sensitive Attribute: sex\n",
            "Kernel Type: linear\n",
            "Loss Func: hinge\n",
            "Run Time: 14.3715 seconds\n",
            "Prediction Accuracy: 76.0673 %\n",
            "DDP Score: 0.0\n",
            "DEO Score: 0.0\n"
          ],
          "name": "stdout"
        }
      ]
    },
    {
      "cell_type": "markdown",
      "metadata": {
        "id": "Fl1HwWkYAf6O"
      },
      "source": [
        "##### Sensitive Attribute = 'Race'"
      ]
    },
    {
      "cell_type": "code",
      "metadata": {
        "colab": {
          "base_uri": "https://localhost:8080/"
        },
        "id": "i1sKgS-wAf6P",
        "outputId": "437b1c7a-7f51-4623-cf51-c707cf9c2f12"
      },
      "source": [
        "SearchFair_Race_DDP_LinearKernel_Hinge = SearchFair(kernel=kernel, fairness_notion=fairness_notion, verbose=verbose)\n",
        "SearchFair_2_tester = TestProcedure(SearchFair_Race_DDP_LinearKernel_Hinge)\n",
        "SearchFair_2_tester_results = SearchFair_2_tester.RunTest(dataset=unbalanced_dataset,sens_attribute='race')"
      ],
      "execution_count": 10,
      "outputs": [
        {
          "output_type": "stream",
          "text": [
            "Sensitive Attribute: race\n",
            "Kernel Type: linear\n",
            "Loss Func: hinge\n",
            "Run Time: 26.4685 seconds\n",
            "Prediction Accuracy: 76.0757 %\n",
            "DDP Score: 0.0\n",
            "DEO Score: 0.0\n"
          ],
          "name": "stdout"
        }
      ]
    },
    {
      "cell_type": "markdown",
      "metadata": {
        "id": "Vd0J0IDiAf6P"
      },
      "source": [
        "#### Kernel = 'rbf'"
      ]
    },
    {
      "cell_type": "code",
      "metadata": {
        "id": "2GiujFDgAf6P"
      },
      "source": [
        "fairness_notion = 'DDP'  \n",
        "kernel = 'rbf' \n",
        "verbose = False"
      ],
      "execution_count": 11,
      "outputs": []
    },
    {
      "cell_type": "markdown",
      "metadata": {
        "id": "eyn2Y3gTAf6P"
      },
      "source": [
        "##### Sensitive Attribute = 'Sex'"
      ]
    },
    {
      "cell_type": "code",
      "metadata": {
        "colab": {
          "base_uri": "https://localhost:8080/"
        },
        "id": "n85r1o01Af6Q",
        "outputId": "f1b372b4-eaa5-4837-c357-876b38ed4ec4"
      },
      "source": [
        "SearchFair_Sex_DDP_RBFKernel_Hinge = SearchFair(kernel=kernel, fairness_notion=fairness_notion, verbose=verbose)\n",
        "SearchFair_3_tester = TestProcedure(SearchFair_Sex_DDP_RBFKernel_Hinge)\n",
        "SearchFair_3_tester_results = SearchFair_3_tester.RunTest(dataset=unbalanced_dataset,sens_attribute='sex')"
      ],
      "execution_count": 12,
      "outputs": [
        {
          "output_type": "stream",
          "text": [
            "Sensitive Attribute: sex\n",
            "Kernel Type: rbf\n",
            "Loss Func: hinge\n",
            "Run Time: 23.3582 seconds\n",
            "Prediction Accuracy: 76.0967 %\n",
            "DDP Score: 0.0\n",
            "DEO Score: 0.0\n"
          ],
          "name": "stdout"
        }
      ]
    },
    {
      "cell_type": "markdown",
      "metadata": {
        "id": "3L_kqFWKAf6Q"
      },
      "source": [
        "##### Sensitive Attribute = 'Race'"
      ]
    },
    {
      "cell_type": "code",
      "metadata": {
        "colab": {
          "base_uri": "https://localhost:8080/"
        },
        "id": "XqvaaotQAf6Q",
        "outputId": "ee3c9f89-6edb-4e2f-c84f-334fa718888f"
      },
      "source": [
        "SearchFair_Race_DDP_RBFKernel_Hinge = SearchFair(kernel=kernel, fairness_notion=fairness_notion, verbose=verbose)\n",
        "SearchFair_4_tester = TestProcedure(SearchFair_Sex_DDP_RBFKernel_Hinge)\n",
        "SearchFair_4_tester_results = SearchFair_4_tester.RunTest(dataset=unbalanced_dataset,sens_attribute='race')"
      ],
      "execution_count": 13,
      "outputs": [
        {
          "output_type": "stream",
          "text": [
            "Sensitive Attribute: race\n",
            "Kernel Type: rbf\n",
            "Loss Func: hinge\n",
            "Run Time: 58.3253 seconds\n",
            "Prediction Accuracy: 79.22 %\n",
            "DDP Score: 0.0113\n",
            "DEO Score: -0.0529\n"
          ],
          "name": "stdout"
        }
      ]
    },
    {
      "cell_type": "markdown",
      "metadata": {
        "id": "aY3HNQXEAf6Q"
      },
      "source": [
        "### Fairness Metric = 'DEO'\n",
        "#### Kernel = 'Linear'"
      ]
    },
    {
      "cell_type": "code",
      "metadata": {
        "id": "tqk1oRQdAf6R"
      },
      "source": [
        "fairness_notion = 'DEO'  \n",
        "kernel = 'linear' \n",
        "verbose = False"
      ],
      "execution_count": 14,
      "outputs": []
    },
    {
      "cell_type": "markdown",
      "metadata": {
        "id": "yG13xbbuAf6R"
      },
      "source": [
        "##### Sensitive Attribute = 'Sex'"
      ]
    },
    {
      "cell_type": "code",
      "metadata": {
        "colab": {
          "base_uri": "https://localhost:8080/"
        },
        "id": "NATSl4P9Af6R",
        "outputId": "fef9302e-4537-4db5-9f4f-c5382751b357"
      },
      "source": [
        "SearchFair_Sex_DEO_LinearKernel_Hinge = SearchFair(kernel=kernel, fairness_notion=fairness_notion, verbose=verbose)\n",
        "SearchFair_5_tester = TestProcedure(SearchFair_Sex_DEO_LinearKernel_Hinge)\n",
        "SearchFair_5_tester_results = SearchFair_5_tester.RunTest(dataset=unbalanced_dataset,sens_attribute='sex')"
      ],
      "execution_count": 15,
      "outputs": [
        {
          "output_type": "stream",
          "text": [
            "Sensitive Attribute: sex\n",
            "Kernel Type: linear\n",
            "Loss Func: hinge\n",
            "Run Time: 15.4506 seconds\n",
            "Prediction Accuracy: 76.0694 %\n",
            "DDP Score: 0.0\n",
            "DEO Score: 0.0\n"
          ],
          "name": "stdout"
        }
      ]
    },
    {
      "cell_type": "markdown",
      "metadata": {
        "id": "0Lwvoo5aAf6R"
      },
      "source": [
        "##### Sensitive Attribute = 'Race'"
      ]
    },
    {
      "cell_type": "code",
      "metadata": {
        "colab": {
          "base_uri": "https://localhost:8080/"
        },
        "id": "WVDGimkyAf6R",
        "outputId": "47b66677-86bb-49c3-d915-54366c4fc654"
      },
      "source": [
        "SearchFair_Race_DEO_LinearKernel_Hinge = SearchFair(kernel=kernel, fairness_notion=fairness_notion, verbose=verbose)\n",
        "SearchFair_6_tester = TestProcedure(SearchFair_Race_DEO_LinearKernel_Hinge)\n",
        "SearchFair_6_tester_results = SearchFair_6_tester.RunTest(dataset=unbalanced_dataset,sens_attribute='race')"
      ],
      "execution_count": 16,
      "outputs": [
        {
          "output_type": "stream",
          "text": [
            "Sensitive Attribute: race\n",
            "Kernel Type: linear\n",
            "Loss Func: hinge\n",
            "Run Time: 67.2561 seconds\n",
            "Prediction Accuracy: 74.6547 %\n",
            "DDP Score: -0.0338\n",
            "DEO Score: -0.1584\n"
          ],
          "name": "stdout"
        }
      ]
    },
    {
      "cell_type": "markdown",
      "metadata": {
        "id": "RgwSuNMAAf6S"
      },
      "source": [
        "#### Kernel = 'rbf'"
      ]
    },
    {
      "cell_type": "code",
      "metadata": {
        "id": "X9lJjCR0Af6S"
      },
      "source": [
        "fairness_notion = 'DEO'  \n",
        "kernel = 'rbf' \n",
        "verbose = False"
      ],
      "execution_count": 17,
      "outputs": []
    },
    {
      "cell_type": "markdown",
      "metadata": {
        "id": "vC4JbYslAf6S"
      },
      "source": [
        "##### Sensitive Attribute = 'Sex'"
      ]
    },
    {
      "cell_type": "code",
      "metadata": {
        "colab": {
          "base_uri": "https://localhost:8080/"
        },
        "id": "GnUnunbmAf6S",
        "outputId": "19106121-9a94-4513-8c6e-20ad088f3194"
      },
      "source": [
        "SearchFair_Sex_DEO_RBFKernel_Hinge = SearchFair(kernel=kernel, fairness_notion=fairness_notion, verbose=verbose)\n",
        "SearchFair_7_tester = TestProcedure(SearchFair_Sex_DEO_RBFKernel_Hinge)\n",
        "SearchFair_7_tester_results = SearchFair_7_tester.RunTest(dataset=unbalanced_dataset,sens_attribute='sex')"
      ],
      "execution_count": 18,
      "outputs": [
        {
          "output_type": "stream",
          "text": [
            "Sensitive Attribute: sex\n",
            "Kernel Type: rbf\n",
            "Loss Func: hinge\n",
            "Run Time: 61.2084 seconds\n",
            "Prediction Accuracy: 80.3913 %\n",
            "DDP Score: 0.2075\n",
            "DEO Score: 0.1219\n"
          ],
          "name": "stdout"
        }
      ]
    },
    {
      "cell_type": "markdown",
      "metadata": {
        "id": "vPTkk3H9Af6T"
      },
      "source": [
        "##### Sensitive Attribute = 'Race'"
      ]
    },
    {
      "cell_type": "code",
      "metadata": {
        "colab": {
          "base_uri": "https://localhost:8080/"
        },
        "id": "ro3wUQMDAf6T",
        "outputId": "c6d9bb68-c2f3-4935-fc5d-8f213c4dfa64"
      },
      "source": [
        "SearchFair_Race_DEO_RBFKernel_Hinge = SearchFair(kernel=kernel, fairness_notion=fairness_notion, verbose=verbose)\n",
        "SearchFair_8_tester = TestProcedure(SearchFair_Sex_DEO_RBFKernel_Hinge)\n",
        "SearchFair_8_tester_results = SearchFair_8_tester.RunTest(dataset=unbalanced_dataset,sens_attribute='race')"
      ],
      "execution_count": 19,
      "outputs": [
        {
          "output_type": "stream",
          "text": [
            "Sensitive Attribute: race\n",
            "Kernel Type: rbf\n",
            "Loss Func: hinge\n",
            "Run Time: 67.8617 seconds\n",
            "Prediction Accuracy: 80.937 %\n",
            "DDP Score: 0.0687\n",
            "DEO Score: 0.019\n"
          ],
          "name": "stdout"
        }
      ]
    },
    {
      "cell_type": "markdown",
      "metadata": {
        "id": "KjV8YTWdAf6T"
      },
      "source": [
        "## SearchFair Results on Balanced Dataset"
      ]
    },
    {
      "cell_type": "markdown",
      "metadata": {
        "id": "HFWT9MDxAf6T"
      },
      "source": [
        "### Fairness Metric = 'DDP'\n",
        "#### Kernel = 'Linear'"
      ]
    },
    {
      "cell_type": "code",
      "metadata": {
        "id": "gug1l5Y3Af6T"
      },
      "source": [
        "fairness_notion = 'DDP'  \n",
        "kernel = 'linear' \n",
        "verbose = False"
      ],
      "execution_count": 20,
      "outputs": []
    },
    {
      "cell_type": "markdown",
      "metadata": {
        "id": "qxXOjZnIAf6U"
      },
      "source": [
        "##### Sensitive Attribute = 'Sex'"
      ]
    },
    {
      "cell_type": "code",
      "metadata": {
        "colab": {
          "base_uri": "https://localhost:8080/"
        },
        "id": "f_RMA4kNAf6U",
        "outputId": "58407c77-bc90-4fdf-c075-55c68313eda6"
      },
      "source": [
        "SearchFair_Sex_DDP_LinearKernel_Hinge = SearchFair(kernel=kernel, fairness_notion=fairness_notion, verbose=verbose)\n",
        "SearchFair_9_tester = TestProcedure(SearchFair_Sex_DDP_LinearKernel_Hinge)\n",
        "SearchFair_9_tester_results = SearchFair_9_tester.RunTest(dataset=balanced_dataset,sens_attribute='sex')"
      ],
      "execution_count": 21,
      "outputs": [
        {
          "output_type": "stream",
          "text": [
            "Sensitive Attribute: sex\n",
            "Kernel Type: linear\n",
            "Loss Func: hinge\n",
            "Run Time: 18.3625 seconds\n",
            "Prediction Accuracy: 62.6094 %\n",
            "DDP Score: -0.0021\n",
            "DEO Score: -0.0797\n"
          ],
          "name": "stdout"
        }
      ]
    },
    {
      "cell_type": "markdown",
      "metadata": {
        "id": "YbYUsR3OAf6U"
      },
      "source": [
        "##### Sensitive Attribute = 'Race'"
      ]
    },
    {
      "cell_type": "code",
      "metadata": {
        "colab": {
          "base_uri": "https://localhost:8080/"
        },
        "id": "52yLiVGkAf6V",
        "outputId": "a88ced21-a3fb-4945-e62c-bcc2102eca47"
      },
      "source": [
        "SearchFair_Race_DDP_LinearKernel_Hinge = SearchFair(kernel=kernel, fairness_notion=fairness_notion, verbose=verbose)\n",
        "SearchFair_10_tester = TestProcedure(SearchFair_Race_DDP_LinearKernel_Hinge)\n",
        "SearchFair_10_tester_results = SearchFair_10_tester.RunTest(dataset=balanced_dataset,sens_attribute='race')"
      ],
      "execution_count": 22,
      "outputs": [
        {
          "output_type": "stream",
          "text": [
            "Sensitive Attribute: race\n",
            "Kernel Type: linear\n",
            "Loss Func: hinge\n",
            "Run Time: 50.6464 seconds\n",
            "Prediction Accuracy: 73.4915 %\n",
            "DDP Score: 0.0961\n",
            "DEO Score: 0.0163\n"
          ],
          "name": "stdout"
        }
      ]
    },
    {
      "cell_type": "markdown",
      "metadata": {
        "id": "0T2WOEdcAf6V"
      },
      "source": [
        "#### Kernel = 'rbf'"
      ]
    },
    {
      "cell_type": "code",
      "metadata": {
        "id": "mOa4wOwyAf6V"
      },
      "source": [
        "fairness_notion = 'DDP'  \n",
        "kernel = 'rbf' \n",
        "verbose = False"
      ],
      "execution_count": 23,
      "outputs": []
    },
    {
      "cell_type": "markdown",
      "metadata": {
        "id": "sWURjwb-Af6V"
      },
      "source": [
        "##### Sensitive Attribute = 'Sex'"
      ]
    },
    {
      "cell_type": "code",
      "metadata": {
        "colab": {
          "base_uri": "https://localhost:8080/"
        },
        "id": "OhQ7kiMNAf6V",
        "outputId": "08d526c0-a087-4343-b08b-b6fd08afcbc9"
      },
      "source": [
        "SearchFair_Sex_DDP_RBFKernel_Hinge = SearchFair(kernel=kernel, fairness_notion=fairness_notion, verbose=verbose)\n",
        "SearchFair_11_tester = TestProcedure(SearchFair_Sex_DDP_RBFKernel_Hinge)\n",
        "SearchFair_11_tester_results = SearchFair_11_tester.RunTest(dataset=balanced_dataset,sens_attribute='sex')"
      ],
      "execution_count": 24,
      "outputs": [
        {
          "output_type": "stream",
          "text": [
            "Sensitive Attribute: sex\n",
            "Kernel Type: rbf\n",
            "Loss Func: hinge\n",
            "Run Time: 54.5072 seconds\n",
            "Prediction Accuracy: 61.8698 %\n",
            "DDP Score: -0.0121\n",
            "DEO Score: -0.0548\n"
          ],
          "name": "stdout"
        }
      ]
    },
    {
      "cell_type": "markdown",
      "metadata": {
        "id": "XC9VFPB7Af6W"
      },
      "source": [
        "##### Sensitive Attribute = 'Race'"
      ]
    },
    {
      "cell_type": "code",
      "metadata": {
        "colab": {
          "base_uri": "https://localhost:8080/"
        },
        "id": "ucTjJ1-pAf6W",
        "outputId": "fae04717-c4bb-4f54-8c65-e02e4a9e2974"
      },
      "source": [
        "SearchFair_Race_DDP_RBFKernel_Hinge = SearchFair(kernel=kernel, fairness_notion=fairness_notion, verbose=verbose)\n",
        "SearchFair_12_tester = TestProcedure(SearchFair_Sex_DDP_RBFKernel_Hinge)\n",
        "SearchFair_12_tester_results = SearchFair_12_tester.RunTest(dataset=balanced_dataset,sens_attribute='race')"
      ],
      "execution_count": 25,
      "outputs": [
        {
          "output_type": "stream",
          "text": [
            "Sensitive Attribute: race\n",
            "Kernel Type: rbf\n",
            "Loss Func: hinge\n",
            "Run Time: 54.717 seconds\n",
            "Prediction Accuracy: 73.4599 %\n",
            "DDP Score: 0.0875\n",
            "DEO Score: -0.0347\n"
          ],
          "name": "stdout"
        }
      ]
    },
    {
      "cell_type": "markdown",
      "metadata": {
        "id": "I1ZSwuWwAf6W"
      },
      "source": [
        "### Fairness Metric = 'DEO'\n",
        "#### Kernel = 'Linear'"
      ]
    },
    {
      "cell_type": "code",
      "metadata": {
        "id": "prTMoqIHAf6W"
      },
      "source": [
        "fairness_notion = 'DEO'  \n",
        "kernel = 'linear' \n",
        "verbose = False"
      ],
      "execution_count": 26,
      "outputs": []
    },
    {
      "cell_type": "markdown",
      "metadata": {
        "id": "arr8WmLJAf6W"
      },
      "source": [
        "##### Sensitive Attribute = 'Sex'"
      ]
    },
    {
      "cell_type": "code",
      "metadata": {
        "colab": {
          "base_uri": "https://localhost:8080/"
        },
        "id": "-OKR3IJkAf6X",
        "outputId": "1e6e442c-9398-4ce4-b9f8-ae2d02f259cf"
      },
      "source": [
        "SearchFair_Sex_DEO_LinearKernel_Hinge = SearchFair(kernel=kernel, fairness_notion=fairness_notion, verbose=verbose)\n",
        "SearchFair_13_tester = TestProcedure(SearchFair_Sex_DEO_LinearKernel_Hinge)\n",
        "SearchFair_13_tester_results = SearchFair_13_tester.RunTest(dataset=balanced_dataset,sens_attribute='sex')"
      ],
      "execution_count": 27,
      "outputs": [
        {
          "output_type": "stream",
          "text": [
            "Sensitive Attribute: sex\n",
            "Kernel Type: linear\n",
            "Loss Func: hinge\n",
            "Run Time: 80.1279 seconds\n",
            "Prediction Accuracy: 70.6458 %\n",
            "DDP Score: 0.1834\n",
            "DEO Score: 0.0278\n"
          ],
          "name": "stdout"
        }
      ]
    },
    {
      "cell_type": "markdown",
      "metadata": {
        "id": "ZYgbAWmYAf6X"
      },
      "source": [
        "##### Sensitive Attribute = 'Race'"
      ]
    },
    {
      "cell_type": "code",
      "metadata": {
        "colab": {
          "base_uri": "https://localhost:8080/"
        },
        "id": "AVQlPnKeAf6X",
        "outputId": "054a19cd-5fce-4694-cef9-aa912fe7815e"
      },
      "source": [
        "SearchFair_Race_DEO_LinearKernel_Hinge = SearchFair(kernel=kernel, fairness_notion=fairness_notion, verbose=verbose)\n",
        "SearchFair_14_tester = TestProcedure(SearchFair_Race_DEO_LinearKernel_Hinge)\n",
        "SearchFair_14_tester_results = SearchFair_14_tester.RunTest(dataset=balanced_dataset,sens_attribute='race')"
      ],
      "execution_count": 28,
      "outputs": [
        {
          "output_type": "stream",
          "text": [
            "Sensitive Attribute: race\n",
            "Kernel Type: linear\n",
            "Loss Func: hinge\n",
            "Run Time: 109.121 seconds\n",
            "Prediction Accuracy: 74.3619 %\n",
            "DDP Score: 0.0917\n",
            "DEO Score: -0.0076\n"
          ],
          "name": "stdout"
        }
      ]
    },
    {
      "cell_type": "markdown",
      "metadata": {
        "id": "3xsgfLNgAf6X"
      },
      "source": [
        "#### Kernel = 'rbf'"
      ]
    },
    {
      "cell_type": "code",
      "metadata": {
        "id": "2KVGcBG3Af6X"
      },
      "source": [
        "fairness_notion = 'DDP'  \n",
        "kernel = 'rbf' \n",
        "verbose = False"
      ],
      "execution_count": 29,
      "outputs": []
    },
    {
      "cell_type": "markdown",
      "metadata": {
        "id": "KPHg2ocdAf6Y"
      },
      "source": [
        "##### Sensitive Attribute = 'Sex'"
      ]
    },
    {
      "cell_type": "code",
      "metadata": {
        "colab": {
          "base_uri": "https://localhost:8080/"
        },
        "id": "IdEFtwL3Af6Y",
        "outputId": "2c6d89b4-9db7-47d1-f074-dd8b9cd6ada9"
      },
      "source": [
        "SearchFair_Sex_DEO_RBFKernel_Hinge = SearchFair(kernel=kernel, fairness_notion=fairness_notion, verbose=verbose)\n",
        "SearchFair_15_tester = TestProcedure(SearchFair_Sex_DEO_RBFKernel_Hinge)\n",
        "SearchFair_15_tester_results = SearchFair_15_tester.RunTest(dataset=balanced_dataset,sens_attribute='sex')"
      ],
      "execution_count": 30,
      "outputs": [
        {
          "output_type": "stream",
          "text": [
            "Sensitive Attribute: sex\n",
            "Kernel Type: rbf\n",
            "Loss Func: hinge\n",
            "Run Time: 53.4688 seconds\n",
            "Prediction Accuracy: 65.9962 %\n",
            "DDP Score: 0.0587\n",
            "DEO Score: -0.0335\n"
          ],
          "name": "stdout"
        }
      ]
    },
    {
      "cell_type": "markdown",
      "metadata": {
        "id": "VnHqiUS2Af6Y"
      },
      "source": [
        "##### Sensitive Attribute = 'Race'"
      ]
    },
    {
      "cell_type": "code",
      "metadata": {
        "colab": {
          "base_uri": "https://localhost:8080/"
        },
        "id": "_9EnB3qfAf6Y",
        "outputId": "7fae8a64-833e-4c84-9c02-c06f9da6c0e0"
      },
      "source": [
        "SearchFair_Race_DEO_RBFKernel_Hinge = SearchFair(kernel=kernel, fairness_notion=fairness_notion, verbose=verbose)\n",
        "SearchFair_16_tester = TestProcedure(SearchFair_Sex_DEO_RBFKernel_Hinge)\n",
        "SearchFair_16_tester_results = SearchFair_16_tester.RunTest(dataset=balanced_dataset,sens_attribute='race')"
      ],
      "execution_count": 31,
      "outputs": [
        {
          "output_type": "stream",
          "text": [
            "Sensitive Attribute: race\n",
            "Kernel Type: rbf\n",
            "Loss Func: hinge\n",
            "Run Time: 42.8938 seconds\n",
            "Prediction Accuracy: 72.4272 %\n",
            "DDP Score: 0.0482\n",
            "DEO Score: -0.0312\n"
          ],
          "name": "stdout"
        }
      ]
    },
    {
      "cell_type": "markdown",
      "metadata": {
        "id": "5JnCIFmdAf6Y"
      },
      "source": [
        "## SearchFair Grid Search for Accuracy \n",
        "- Fairness Notion = 'DDP'\n",
        "- Sensitive Attribute = 'Sex'\n",
        "- Kernel = 'Linear')"
      ]
    },
    {
      "cell_type": "markdown",
      "metadata": {
        "id": "Qg3yw1mBAf6Z"
      },
      "source": [
        "### Unbalanced Dataset"
      ]
    },
    {
      "cell_type": "code",
      "metadata": {
        "id": "eqS_aKdxAf6Z"
      },
      "source": [
        "# Load Data\n",
        "x_data, y_data, s_data = build_adult_data(dataset = unbalanced_dataset,sens_attribute='race',load_data_size=None)\n",
        "# Train Test split. Here, we choose a small number to reduce running time.\n",
        "train_size = 1200\n",
        "x_train, x_test, y_train, y_test, s_train, s_test = train_test_split(x_data, y_data, s_data, train_size=train_size, shuffle=True)"
      ],
      "execution_count": 32,
      "outputs": []
    },
    {
      "cell_type": "code",
      "metadata": {
        "colab": {
          "base_uri": "https://localhost:8080/"
        },
        "id": "QabThWT9Af6Z",
        "outputId": "2f960fb8-ae55-42f4-b1ce-a2c08c7e1ac2"
      },
      "source": [
        "fairness_notion = 'DDP' # DDP = Demographic Parity, DEO = Equality of Opportunity. \n",
        "kernel = 'linear' # 'linear', 'rbf'\n",
        "verbose = False\n",
        "\n",
        "unbalanced_adult_searchfair = SearchFair(kernel=kernel, fairness_notion=fairness_notion, verbose=verbose)\n",
        "\n",
        "# regularization parameter beta\n",
        "beta_params = [0.0001, 0.001, 0.01]\n",
        "cv_params = {'reg_beta': beta_params}\n",
        "\n",
        "grid_searchfair_DDP_sex_linear_1 = GridSearchCV(unbalanced_adult_searchfair,cv_params, cv=3, verbose=1, n_jobs=1, scoring='accuracy')\n",
        "grid_searchfair_DDP_sex_linear_1.fit(x_train, y_train, s_train=s_train)"
      ],
      "execution_count": 33,
      "outputs": [
        {
          "output_type": "stream",
          "text": [
            "Fitting 3 folds for each of 3 candidates, totalling 9 fits\n"
          ],
          "name": "stdout"
        },
        {
          "output_type": "stream",
          "text": [
            "[Parallel(n_jobs=1)]: Using backend SequentialBackend with 1 concurrent workers.\n",
            "[Parallel(n_jobs=1)]: Done   9 out of   9 | elapsed:   34.4s finished\n"
          ],
          "name": "stderr"
        },
        {
          "output_type": "execute_result",
          "data": {
            "text/plain": [
              "GridSearchCV(cv=3, error_score=nan,\n",
              "             estimator=SearchFair(fairness_notion='DDP',\n",
              "                                  fairness_regularizer='wu', gamma=None,\n",
              "                                  kernel='linear', lambda_max=1,\n",
              "                                  loss_name='hinge', max_iter=3000,\n",
              "                                  max_search_iter=10, reason_points=0.5,\n",
              "                                  reg_beta=0.001, solver='SCS',\n",
              "                                  stop_criterion=0.01, verbose=False,\n",
              "                                  wu_bound='hinge'),\n",
              "             iid='deprecated', n_jobs=1,\n",
              "             param_grid={'reg_beta': [0.0001, 0.001, 0.01]},\n",
              "             pre_dispatch='2*n_jobs', refit=True, return_train_score=False,\n",
              "             scoring='accuracy', verbose=1)"
            ]
          },
          "metadata": {
            "tags": []
          },
          "execution_count": 33
        }
      ]
    },
    {
      "cell_type": "code",
      "metadata": {
        "colab": {
          "base_uri": "https://localhost:8080/"
        },
        "id": "ZPMpR1AEAf6a",
        "outputId": "7aa47fa2-e124-4e50-8e5e-8eabaa83fc55"
      },
      "source": [
        "grid_searchfair_DDP_sex_linear_1.cv_results_"
      ],
      "execution_count": 34,
      "outputs": [
        {
          "output_type": "execute_result",
          "data": {
            "text/plain": [
              "{'mean_fit_time': array([3.82009721, 3.7435027 , 3.88616165]),\n",
              " 'mean_score_time': array([0.00151277, 0.00151809, 0.00238109]),\n",
              " 'mean_test_score': array([0.76166667, 0.76166667, 0.76166667]),\n",
              " 'param_reg_beta': masked_array(data=[0.0001, 0.001, 0.01],\n",
              "              mask=[False, False, False],\n",
              "        fill_value='?',\n",
              "             dtype=object),\n",
              " 'params': [{'reg_beta': 0.0001}, {'reg_beta': 0.001}, {'reg_beta': 0.01}],\n",
              " 'rank_test_score': array([1, 1, 1], dtype=int32),\n",
              " 'split0_test_score': array([0.7725, 0.7725, 0.7725]),\n",
              " 'split1_test_score': array([0.7525, 0.7525, 0.7525]),\n",
              " 'split2_test_score': array([0.76, 0.76, 0.76]),\n",
              " 'std_fit_time': array([0.40312098, 0.3853972 , 0.35657484]),\n",
              " 'std_score_time': array([3.76087203e-05, 4.90042825e-05, 1.20847481e-03]),\n",
              " 'std_test_score': array([0.00824958, 0.00824958, 0.00824958])}"
            ]
          },
          "metadata": {
            "tags": []
          },
          "execution_count": 34
        }
      ]
    },
    {
      "cell_type": "markdown",
      "metadata": {
        "id": "2_GLmtgxAf6a"
      },
      "source": [
        "### Balanced Dataset"
      ]
    },
    {
      "cell_type": "code",
      "metadata": {
        "colab": {
          "base_uri": "https://localhost:8080/"
        },
        "id": "Vhylh5u9Af6a",
        "outputId": "97de8d5c-e366-4394-b2e5-9f54dc7e1350"
      },
      "source": [
        "fairness_notion = 'DDP' # DDP = Demographic Parity, DEO = Equality of Opportunity. \n",
        "kernel = 'linear' # 'linear', 'rbf'\n",
        "verbose = False\n",
        "\n",
        "balanced_adult_searchfair = SearchFair(kernel=kernel, fairness_notion=fairness_notion, verbose=verbose)\n",
        "\n",
        "# regularization parameter beta\n",
        "beta_params = [0.0001, 0.001, 0.01]\n",
        "cv_params = {'reg_beta': beta_params}\n",
        "\n",
        "grid_searchfair_DDP_sex_linear_2 = GridSearchCV(balanced_adult_searchfair,cv_params, cv=3, verbose=1, n_jobs=1, scoring='accuracy')\n",
        "grid_searchfair_DDP_sex_linear_2.fit(x_train, y_train, s_train=s_train)"
      ],
      "execution_count": 36,
      "outputs": [
        {
          "output_type": "stream",
          "text": [
            "Fitting 3 folds for each of 3 candidates, totalling 9 fits\n"
          ],
          "name": "stdout"
        },
        {
          "output_type": "stream",
          "text": [
            "[Parallel(n_jobs=1)]: Using backend SequentialBackend with 1 concurrent workers.\n",
            "[Parallel(n_jobs=1)]: Done   9 out of   9 | elapsed:   34.8s finished\n"
          ],
          "name": "stderr"
        },
        {
          "output_type": "execute_result",
          "data": {
            "text/plain": [
              "GridSearchCV(cv=3, error_score=nan,\n",
              "             estimator=SearchFair(fairness_notion='DDP',\n",
              "                                  fairness_regularizer='wu', gamma=None,\n",
              "                                  kernel='linear', lambda_max=1,\n",
              "                                  loss_name='hinge', max_iter=3000,\n",
              "                                  max_search_iter=10, reason_points=0.5,\n",
              "                                  reg_beta=0.001, solver='SCS',\n",
              "                                  stop_criterion=0.01, verbose=False,\n",
              "                                  wu_bound='hinge'),\n",
              "             iid='deprecated', n_jobs=1,\n",
              "             param_grid={'reg_beta': [0.0001, 0.001, 0.01]},\n",
              "             pre_dispatch='2*n_jobs', refit=True, return_train_score=False,\n",
              "             scoring='accuracy', verbose=1)"
            ]
          },
          "metadata": {
            "tags": []
          },
          "execution_count": 36
        }
      ]
    },
    {
      "cell_type": "code",
      "metadata": {
        "colab": {
          "base_uri": "https://localhost:8080/"
        },
        "id": "ArercZ8oAf6a",
        "outputId": "36d5f314-258e-4ec1-8868-d5f81105cdd6"
      },
      "source": [
        "grid_searchfair_DDP_sex_linear_2.cv_results_"
      ],
      "execution_count": 37,
      "outputs": [
        {
          "output_type": "execute_result",
          "data": {
            "text/plain": [
              "{'mean_fit_time': array([3.89578462, 3.83560801, 3.86566893]),\n",
              " 'mean_score_time': array([0.00155505, 0.00346867, 0.00246207]),\n",
              " 'mean_test_score': array([0.76166667, 0.76166667, 0.76166667]),\n",
              " 'param_reg_beta': masked_array(data=[0.0001, 0.001, 0.01],\n",
              "              mask=[False, False, False],\n",
              "        fill_value='?',\n",
              "             dtype=object),\n",
              " 'params': [{'reg_beta': 0.0001}, {'reg_beta': 0.001}, {'reg_beta': 0.01}],\n",
              " 'rank_test_score': array([1, 1, 1], dtype=int32),\n",
              " 'split0_test_score': array([0.7725, 0.7725, 0.7725]),\n",
              " 'split1_test_score': array([0.7525, 0.7525, 0.7525]),\n",
              " 'split2_test_score': array([0.76, 0.76, 0.76]),\n",
              " 'std_fit_time': array([0.44158565, 0.35984522, 0.33194986]),\n",
              " 'std_score_time': array([3.69317143e-05, 1.35343904e-03, 1.33462604e-03]),\n",
              " 'std_test_score': array([0.00824958, 0.00824958, 0.00824958])}"
            ]
          },
          "metadata": {
            "tags": []
          },
          "execution_count": 37
        }
      ]
    },
    {
      "cell_type": "code",
      "metadata": {
        "id": "q3P6CGRaErDC"
      },
      "source": [
        ""
      ],
      "execution_count": null,
      "outputs": []
    }
  ]
}